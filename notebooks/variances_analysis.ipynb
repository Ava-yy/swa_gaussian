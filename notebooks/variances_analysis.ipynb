{
 "cells": [
  {
   "cell_type": "code",
   "execution_count": 1,
   "metadata": {},
   "outputs": [],
   "source": [
    "import numpy as np\n",
    "import torch \n",
    "import sys\n",
    "sys.path.append(\"/home/izmailovpavel/Documents/Projects/private_swa_uncertainties/\")\n",
    "\n",
    "# import swa\n",
    "import torch.nn.functional as F\n",
    "import torchvision\n",
    "import data\n",
    "import models\n",
    "import utils\n",
    "import tabulate\n",
    "import swag\n",
    "import losses\n",
    "\n",
    "import tqdm\n",
    "\n",
    "from matplotlib import pyplot as plt\n",
    "%matplotlib inline"
   ]
  },
  {
   "cell_type": "code",
   "execution_count": 2,
   "metadata": {},
   "outputs": [
    {
     "name": "stdout",
     "output_type": "stream",
     "text": [
      "Files already downloaded and verified\n",
      "You are going to run models on the test set. Are you sure?\n",
      "Files already downloaded and verified\n"
     ]
    }
   ],
   "source": [
    "model_cfg = getattr(models, \"VGG16\")\n",
    "loaders, num_classes = data.loaders(\n",
    "    \"CIFAR100\",\n",
    "    \"/home/izmailovpavel/datasets/\",\n",
    "    128,\n",
    "    4,\n",
    "    model_cfg.transform_train,\n",
    "    model_cfg.transform_test,\n",
    "    use_validation=False,\n",
    "    split_classes=None\n",
    ")"
   ]
  },
  {
   "cell_type": "code",
   "execution_count": 3,
   "metadata": {},
   "outputs": [],
   "source": [
    "swag_model = swag.SWAG(model_cfg.base, no_cov_mat=True, max_num_models=20, *model_cfg.args, num_classes=num_classes, **model_cfg.kwargs)"
   ]
  },
  {
   "cell_type": "code",
   "execution_count": 4,
   "metadata": {},
   "outputs": [],
   "source": [
    "ckpt = torch.load(\"/home/izmailovpavel/Documents/Projects/private_swa_uncertainties/ckpts/c100/vgg16/swag/run1/swag-300.pt\")\n",
    "swag_model.load_state_dict(ckpt['state_dict'])\n",
    "swag_model.cuda();"
   ]
  },
  {
   "cell_type": "code",
   "execution_count": 5,
   "metadata": {},
   "outputs": [],
   "source": [
    "for i, (input, target) in enumerate(loaders[\"test\"]):\n",
    "    input = input.cuda(non_blocking=True)\n",
    "    target = target.cuda(non_blocking=True)\n",
    "    break"
   ]
  },
  {
   "cell_type": "code",
   "execution_count": 57,
   "metadata": {
    "scrolled": true
   },
   "outputs": [
    {
     "name": "stdout",
     "output_type": "stream",
     "text": [
      "0 : 0.7146 ; 1 : 0.7285 ; 2 : 0.7334 ; 3 : 0.7405 ; 4 : 0.7412 ; 5 : 0.743 ; 6 : 0.7446 ; 7 : 0.7453 ; 8 : 0.7442 ; 9 : 0.7461 ; 10 : 0.747 ; 11 : 0.7474 ; 12 : 0.7478 ; 13 : 0.7476 ; 14 : 0.7488 ; 15 : 0.7497 ; 16 : 0.7501 ; 17 : 0.7503 ; 18 : 0.7501 ; 19 : 0.7491 ; 20 : 0.7483 ; 21 : 0.7487 ; 22 : 0.7479 ; 23 : 0.7498 ; 24 : 0.7494 ; 25 : 0.748 ; 26 : 0.7486 ; 27 : 0.7485 ; 28 : 0.7484 ; 29 : 0.7486 ; 30 : 0.7484 ; 31 : 0.749 ; 32 : 0.7498 ; 33 : 0.75 ; 34 : 0.7497 ; 35 : 0.7498 ; 36 : 0.749 ; 37 : 0.7492 ; 38 : 0.7498 ; 39 : 0.7496 ; 40 : 0.7496 ; 41 : 0.7495 ; 42 : 0.7495 ; 43 : 0.7489 ; 44 : 0.7496 ; 45 : 0.7497 ; 46 : 0.7497 ; 47 : 0.7499 ; 48 : 0.7503 ; 49 : 0.7501 ; 1.3 : 0.7501\n",
      "0 : 0.7049 ; 1 : 0.7272 ; 2 : 0.7312 ; 3 : 0.7376 ; 4 : 0.7395 ; 5 : 0.7404 ; 6 : 0.7428 ; 7 : 0.7432 ; 8 : 0.7446 ; 9 : 0.7467 ; 10 : 0.7478 ; 11 : 0.7452 ; 12 : 0.7457 ; 13 : 0.7458 ; 14 : 0.7466 ; 15 : 0.7464 ; 16 : 0.7467 ; 17 : 0.7474 ; 18 : 0.7483 ; 19 : 0.7476 ; 20 : 0.7482 ; 21 : 0.7465 ; 22 : 0.7468 ; 23 : 0.7469 ; 24 : 0.7485 ; 25 : 0.7479 ; 26 : 0.747 ; 27 : 0.7474 ; 28 : 0.7469 ; 29 : 0.7469 ; 30 : 0.7469 ; 31 : 0.7464 ; 32 : 0.7472 ; 33 : 0.7474 ; 34 : 0.7473 ; 35 : 0.7482 ; 36 : 0.7485 ; 37 : 0.7481 ; 38 : 0.7476 ; 39 : 0.7482 ; 40 : 0.7473 ; 41 : 0.7477 ; 42 : 0.7479 ; 43 : 0.7486 ; 44 : 0.748 ; 45 : 0.7482 ; 46 : 0.7485 ; 47 : 0.7481 ; 48 : 0.748 ; 49 : 0.7477 ; 1.4 : 0.7477\n",
      "0 : 0.7043 ; 1 : 0.725 ; 2 : 0.7328 ; 3 : 0.7351 ; 4 : 0.7352 ; 5 : 0.7387 ; 6 : 0.7425 ; 7 : 0.7436 ; 8 : 0.7431 ; 9 : 0.7436 ; 10 : 0.7444 ; 11 : 0.7441 ; 12 : 0.744 ; 13 : 0.7444 ; 14 : 0.7441 ; 15 : 0.7437 ; 16 : 0.745 ; 17 : 0.7456 ; 18 : 0.7452 ; 19 : 0.7464 ; 20 : 0.7474 ; 21 : 0.7472 ; 22 : 0.7469 ; 23 : 0.747 ; 24 : 0.7472 ; 25 : 0.7469 ; 26 : 0.7475 ; 27 : 0.7476 ; 28 : 0.747 ; 29 : 0.747 ; 30 : 0.7487 ; 31 : 0.7486 ; 32 : 0.7483 ; 33 : 0.7482 ; 34 : 0.7485 ; 35 : 0.7483 ; 36 : 0.748 ; 37 : 0.7478 ; 38 : 0.7488 ; 39 : 0.7485 ; 40 : 0.749 ; 41 : 0.7485 ; 42 : 0.7487 ; 43 : 0.7483 ; 44 : 0.7489 ; 45 : 0.7493 ; 46 : 0.749 ; 47 : 0.7496 ; 48 : 0.7492 ; 49 : 0.749 ; 1.5 : 0.749\n",
      "0 : 0.6938 ; 1 : 0.7144 ; 2 : 0.7288 ; 3 : 0.7328 ; 4 : 0.7352 ; 5 : 0.7368 ; 6 : 0.7392 ; 7 : 0.7408 ; 8 : 0.7438 ; 9 : 0.7445 ; 10 : 0.7451 ; 11 : 0.7441 ; 12 : 0.745 ; 13 : 0.7438 ; 14 : 0.7447 ; 15 : 0.7442 ; 16 : 0.7446 ; 17 : 0.7445 ; 18 : 0.7446 ; 19 : 0.7447 ; 20 : 0.7447 ; 21 : 0.7445 ; 22 : 0.7458 ; 23 : 0.7457 ; 24 : 0.7455 ; 25 : 0.7462 ; 26 : 0.7472 ; 27 : 0.7464 ; 28 : 0.7461 ; 29 : 0.746 ; 30 : 0.7464 ; 31 : 0.7459 ; 32 : 0.7462 ; 33 : 0.7459 ; 34 : 0.7466 ; 35 : 0.7479 ; 36 : 0.748 ; 37 : 0.747 ; 38 : 0.747 ; 39 : 0.7461 ; 40 : 0.7467 ; 41 : 0.746 ; 42 : 0.7461 ; 43 : 0.7463 ; 44 : 0.7464 ; 45 : 0.747 ; 46 : 0.7461 ; 47 : 0.7465 ; 48 : 0.746 ; 49 : 0.7459 ; 1.6 : 0.7459\n",
      "0 : 0.6846 ; 1 : 0.716 ; 2 : 0.7249 ; 3 : 0.7301 ; 4 : 0.7345 ; 5 : 0.7368 ; 6 : 0.7368 ; 7 : 0.7383 ; 8 : 0.7397 ; 9 : 0.7406 ; 10 : 0.7413 ; 11 : 0.7419 ; 12 : 0.7412 ; 13 : 0.7429 ; 14 : 0.7425 ; 15 : 0.7419 ; 16 : 0.7439 ; 17 : 0.7431 ; 18 : 0.7433 ; 19 : 0.7441 ; 20 : 0.7445 ; 21 : 0.7433 ; 22 : 0.7435 ; 23 : 0.7428 ; 24 : 0.7432 ; 25 : 0.7439 ; 26 : 0.7439 ; 27 : 0.7446 ; 28 : 0.7444 ; 29 : 0.7441 ; 30 : 0.744 ; 31 : 0.7444 ; 32 : 0.745 ; 33 : 0.7453 ; 34 : 0.7463 ; 35 : 0.7463 ; 36 : 0.7466 ; 37 : 0.7459 ; 38 : 0.7459 ; 39 : 0.7458 ; 40 : 0.7463 ; 41 : 0.747 ; 42 : 0.7471 ; 43 : 0.7465 ; 44 : 0.7468 ; 45 : 0.7463 ; 46 : 0.7464 ; 47 : 0.7468 ; 48 : 0.7469 ; 49 : 0.7473 ; 1.7 : 0.7473\n",
      "0 : 0.6783 ; 1 : 0.7012 ; 2 : 0.716 ; 3 : 0.7243 ; 4 : 0.7282 ; 5 : 0.7314 ; 6 : 0.7339 ; 7 : 0.7357 ; 8 : 0.737 ; 9 : 0.7368 ; 10 : 0.7385 ; 11 : 0.7381 ; 12 : 0.739 ; 13 : 0.7406 ; 14 : 0.7411 ; 15 : 0.7416 ; 16 : 0.7423 ; 17 : 0.7431 ; 18 : 0.7439 ; 19 : 0.7436 ; 20 : 0.7445 ; 21 : 0.7444 ; 22 : 0.7446 ; 23 : 0.7442 ; 24 : 0.7441 ; 25 : 0.745 ; 26 : 0.7448 ; 27 : 0.7447 ; 28 : 0.7452 ; 29 : 0.745 ; 30 : 0.7463 ; 31 : 0.7465 ; 32 : 0.7463 ; 33 : 0.7463 ; 34 : 0.7465 ; 35 : 0.7476 ; 36 : 0.747 ; 37 : 0.7471 ; 38 : 0.7471 ; 39 : 0.7474 ; 40 : 0.7465 ; 41 : 0.7473 ; 42 : 0.7466 ; 43 : 0.7465 ; 44 : 0.7466 ; 45 : 0.7477 ; 46 : 0.747 ; 47 : 0.7465 ; 48 : 0.7464 ; 49 : 0.7464 ; 1.8 : 0.7464\n",
      "0 : 0.6582 ; 1 : 0.6991 ; 2 : 0.7095 ; 3 : 0.7186 ; 4 : 0.7249 ; 5 : 0.7316 ; 6 : 0.7339 ; 7 : 0.7355 ; 8 : 0.7371 ; 9 : 0.739 ; 10 : 0.7382 ; 11 : 0.7387 ; 12 : 0.7384 ; 13 : 0.7415 ; 14 : 0.7412 ; 15 : 0.7417 ; 16 : 0.7423 ; 17 : 0.7424 ; 18 : 0.7419 ; 19 : 0.7425 ; 20 : 0.7425 ; 21 : 0.7414 ; 22 : 0.7432 ; 23 : 0.7426 ; 24 : 0.7426 ; 25 : 0.7432 ; 26 : 0.7428 ; 27 : 0.7429 ; 28 : 0.7429 ; 29 : 0.7447 ; 30 : 0.7451 ; 31 : 0.7445 ; 32 : 0.7437 ; 33 : 0.7451 ; 34 : 0.745 ; 35 : 0.7455 ; 36 : 0.7451 ; 37 : 0.7466 ; 38 : 0.7459 ; 39 : 0.7464 ; 40 : 0.7462 ; 41 : 0.7458 ; 42 : 0.7466 ; 43 : 0.7457 ; 44 : 0.7467 ; 45 : 0.7462 ; 46 : 0.7463 ; 47 : 0.7464 ; 48 : 0.7465 ; 49 : 0.7467 ; 1.9 : 0.7467\n",
      "0 : 0.6451 ; 1 : 0.6871 ; 2 : 0.7036 ; 3 : 0.7129 ; 4 : 0.7173 ; 5 : 0.7243 ; 6 : 0.7267 ; 7 : 0.7294 ; 8 : 0.7298 ; 9 : 0.733 ; 10 : 0.7342 ; 11 : 0.7354 ; 12 : 0.7367 ; 13 : 0.7367 ; 14 : 0.7382 ; 15 : 0.7365 ; 16 : 0.7384 ; 17 : 0.7396 ; 18 : 0.7397 ; 19 : 0.74 ; 20 : 0.7407 ; 21 : 0.7424 ; 22 : 0.7442 ; 23 : 0.742 ; 24 : 0.743 ; 25 : 0.7433 ; 26 : 0.7426 ; 27 : 0.7425 ; 28 : 0.7429 ; 29 : 0.744 ; 30 : 0.7435 ; 31 : 0.743 ; 32 : 0.7438 ; 33 : 0.7435 ; 34 : 0.7436 ; 35 : 0.7443 ; 36 : 0.7448 ; 37 : 0.7443 ; 38 : 0.7447 ; 39 : 0.7449 ; 40 : 0.7444 ; 41 : 0.744 ; 42 : 0.7447 ; 43 : 0.7446 ; 44 : 0.7448 ; 45 : 0.7454 ; 46 : 0.7447 ; 47 : 0.7451 ; 48 : 0.7459 ; 49 : 0.7458 ; 2.0 : 0.7458\n"
     ]
    }
   ],
   "source": [
    "# scales = [0.01, 0.1, 0.75, 0.8, 0.85, 0.9, 0.95, 1.0, 1.05, 1.1, 1.15, 1.2, 1.25, 5.]\n",
    "scales = [1.3, 1.4, 1.5, 1.6, 1.7, 1.8, 1.9, 2.]\n",
    "results = []\n",
    "for scale in scales:\n",
    "    sum_preds = np.zeros((len(loaders[\"test\"].dataset), 100))\n",
    "    num_models = 50\n",
    "    for i in range(num_models):\n",
    "        swag_model.sample(scale)\n",
    "        swag_model.eval()\n",
    "        preds, ys = utils.predictions(loaders[\"test\"], swag_model)\n",
    "        sum_preds += preds\n",
    "        print(i, \":\", np.mean(np.argmax(sum_preds, axis=1) == ys), \"; \", end=\"\")\n",
    "    sum_preds /= num_models\n",
    "    res = np.mean(np.argmax(sum_preds, axis=1) == ys)\n",
    "    print(scale, \":\", res)\n",
    "    results.append(res)"
   ]
  },
  {
   "cell_type": "code",
   "execution_count": 58,
   "metadata": {},
   "outputs": [
    {
     "name": "stdout",
     "output_type": "stream",
     "text": [
      "- 1.30 -> 75.01%\n",
      "- 1.40 -> 74.77%\n",
      "- 1.50 -> 74.90%\n",
      "- 1.60 -> 74.59%\n",
      "- 1.70 -> 74.73%\n",
      "- 1.80 -> 74.64%\n",
      "- 1.90 -> 74.67%\n",
      "- 2.00 -> 74.58%\n"
     ]
    }
   ],
   "source": [
    "for s, r in zip(scales, results):\n",
    "    print((\"- %.2f -> %.2f\" % (s, 100*r)) + \"%\")"
   ]
  },
  {
   "cell_type": "markdown",
   "metadata": {},
   "source": [
    "## Sanity Check from Timur"
   ]
  },
  {
   "cell_type": "code",
   "execution_count": 62,
   "metadata": {},
   "outputs": [],
   "source": [
    "model = swag.SWAG(model_cfg.base, no_cov_mat=True, max_num_models=20, *model_cfg.args, num_classes=num_classes, **model_cfg.kwargs)\n",
    "# model2 = swag.SWAG(model_cfg.base, no_cov_mat=True, max_num_models=20, *model_cfg.args, num_classes=num_classes, **model_cfg.kwargs)\n",
    "\n",
    "ckpt = torch.load(\"/home/izmailovpavel/Documents/Projects/private_swa_uncertainties/ckpts/c100/vgg16/swag/run1/swag-300.pt\")\n",
    "model.load_state_dict(ckpt['state_dict'])\n",
    "model.cuda();"
   ]
  },
  {
   "cell_type": "markdown",
   "metadata": {},
   "source": [
    "$Var = E x^2 - (E x) \\Rightarrow E x^2 = (E x)^2 + Var$ "
   ]
  },
  {
   "cell_type": "code",
   "execution_count": 63,
   "metadata": {},
   "outputs": [],
   "source": [
    "def resample_weights_ball(model1, std=0.001):\n",
    "    for module, name in model1.params:\n",
    "        mean = module.__getattr__('%s_mean' % name)\n",
    "        module.__getattr__('%s_sq_mean' % name).copy_(mean**2 + std**2)\n",
    "        \n",
    "def resample_weights_2(model1, c=0.1):\n",
    "    for module, name in model1.params:\n",
    "        mean = module.__getattr__('%s_mean' % name)\n",
    "        module.__getattr__('%s_sq_mean' % name).copy_(mean**2 * (1 + c))"
   ]
  },
  {
   "cell_type": "code",
   "execution_count": 64,
   "metadata": {},
   "outputs": [
    {
     "name": "stdout",
     "output_type": "stream",
     "text": [
      "0 : 0.7284 ; 1 : 0.7388 ; 2 : 0.7416 ; 3 : 0.7439 ; 4 : 0.744 ; 5 : 0.7456 ; 6 : 0.7456 ; 7 : 0.7471 ; 8 : 0.7468 ; 9 : 0.7468 ; 10 : 0.7473 ; 11 : 0.7461 ; 12 : 0.7466 ; 13 : 0.747 ; 14 : 0.7471 ; 15 : 0.7468 ; 16 : 0.7465 ; 17 : 0.7474 ; 18 : 0.7482 ; 19 : 0.7483 ; 20 : 0.7482 ; 21 : 0.749 ; 22 : 0.7483 ; 23 : 0.7478 ; 24 : 0.7475 ; 25 : 0.7475 ; 26 : 0.7481 ; 27 : 0.7473 ; 28 : 0.7479 ; 29 : 0.7482 ; 30 : 0.7486 ; 31 : 0.7484 ; 32 : 0.7491 ; 33 : 0.7486 ; 34 : 0.748 ; 35 : 0.7476 ; 36 : 0.7478 ; 37 : 0.7483 ; 38 : 0.7486 ; 39 : 0.7489 ; 40 : 0.7485 ; 41 : 0.7483 ; 42 : 0.7482 ; 43 : 0.7482 ; 44 : 0.7483 ; 45 : 0.7481 ; 46 : 0.7484 ; 47 : 0.7482 ; 48 : 0.748 ; 49 : 0.7476 ; 0.01 : 0.7476\n"
     ]
    }
   ],
   "source": [
    "stds = [0.01]#,0.005, 0.007, 0.01, 0.012, 0.015, 0.02, 0.03, 0.04]\n",
    "results = []\n",
    "for std in stds:\n",
    "    resample_weights_ball(model, std=std)\n",
    "    sum_preds = np.zeros((len(loaders[\"test\"].dataset), 100))\n",
    "    num_models = 50\n",
    "    for i in range(num_models):\n",
    "        model.sample(1.)\n",
    "        model.eval()\n",
    "        preds, ys = utils.predictions(loaders[\"test\"], model)\n",
    "        sum_preds += preds\n",
    "        print(i, \":\", np.mean(np.argmax(sum_preds, axis=1) == ys), \"; \", end=\"\")\n",
    "    sum_preds /= num_models\n",
    "    res = np.mean(np.argmax(sum_preds, axis=1) == ys)\n",
    "    print(std, \":\", res)\n",
    "    results.append(res)"
   ]
  },
  {
   "cell_type": "code",
   "execution_count": 153,
   "metadata": {},
   "outputs": [
    {
     "data": {
      "text/plain": [
       "[0.7456, 0.7447, 0.749, 0.7476, 0.7454, 0.7243, 0.2541, 0.019]"
      ]
     },
     "execution_count": 153,
     "metadata": {},
     "output_type": "execute_result"
    }
   ],
   "source": [
    "results"
   ]
  },
  {
   "cell_type": "code",
   "execution_count": 152,
   "metadata": {},
   "outputs": [
    {
     "data": {
      "text/plain": [
       "[0.005, 0.007, 0.01, 0.012, 0.015, 0.02, 0.03, 0.04]"
      ]
     },
     "execution_count": 152,
     "metadata": {},
     "output_type": "execute_result"
    }
   ],
   "source": [
    "stds"
   ]
  },
  {
   "cell_type": "code",
   "execution_count": 156,
   "metadata": {},
   "outputs": [
    {
     "name": "stdout",
     "output_type": "stream",
     "text": [
      "std -> ens acc\n",
      "- 0.005 -> 74.56%\n",
      "- 0.007 -> 74.47%\n",
      "- 0.010 -> 74.90%\n",
      "- 0.012 -> 74.76%\n",
      "- 0.015 -> 74.54%\n",
      "- 0.020 -> 72.43%\n",
      "- 0.030 -> 25.41%\n",
      "- 0.040 -> 1.90%\n"
     ]
    }
   ],
   "source": [
    "print(\"std -> ens acc\")\n",
    "for s, r in zip(stds, results):\n",
    "    print((\"- %.3f -> %.2f\" % (s, 100*r)) + \"%\")"
   ]
  },
  {
   "cell_type": "code",
   "execution_count": 159,
   "metadata": {},
   "outputs": [
    {
     "name": "stdout",
     "output_type": "stream",
     "text": [
      "0 : 0.7399 ; 1 : 0.7431 ; 2 : 0.7434 ; 3 : 0.7435 ; 4 : 0.7448 ; 5 : 0.746 ; 6 : 0.746 ; 7 : 0.7466 ; 8 : 0.7458 ; 9 : 0.7469 ; 10 : 0.747 ; 11 : 0.7468 ; 12 : 0.7472 ; 13 : 0.7473 ; 14 : 0.7471 ; 15 : 0.7469 ; 16 : 0.7462 ; 17 : 0.7463 ; 18 : 0.7467 ; 19 : 0.7463 ; 20 : 0.7462 ; 21 : 0.7465 ; 22 : 0.7463 ; 23 : 0.7459 ; 24 : 0.7464 ; 25 : 0.7461 ; 26 : 0.7456 ; 27 : 0.7458 ; 28 : 0.746 ; 29 : 0.7461 ; 30 : 0.7463 ; 31 : 0.7463 ; 32 : 0.746 ; 33 : 0.7459 ; 34 : 0.7455 ; 35 : 0.7455 ; 36 : 0.7454 ; 37 : 0.7453 ; 38 : 0.7455 ; 39 : 0.7456 ; 40 : 0.7454 ; 41 : 0.7456 ; 42 : 0.7452 ; 43 : 0.7453 ; 44 : 0.7455 ; 45 : 0.745 ; 46 : 0.7451 ; 47 : 0.7453 ; 48 : 0.7455 ; 49 : 0.7459 ; 0.0075 : 0.7459\n",
      "0 : 0.7389 ; 1 : 0.7409 ; 2 : 0.742 ; 3 : 0.7456 ; 4 : 0.7453 ; 5 : 0.746 ; 6 : 0.7456 ; 7 : 0.7456 ; 8 : 0.7456 ; 9 : 0.746 ; 10 : 0.7466 ; 11 : 0.7468 ; 12 : 0.7468 ; 13 : 0.7463 ; 14 : 0.747 ; 15 : 0.7468 ; 16 : 0.7469 ; 17 : 0.7468 ; 18 : 0.747 ; 19 : 0.7465 ; 20 : 0.7465 ; 21 : 0.7463 ; 22 : 0.7461 ; 23 : 0.7464 ; 24 : 0.7461 ; 25 : 0.7459 ; 26 : 0.7458 ; 27 : 0.746 ; 28 : 0.7459 ; 29 : 0.7457 ; 30 : 0.7465 ; 31 : 0.746 ; 32 : 0.7459 ; 33 : 0.7463 ; 34 : 0.7465 ; 35 : 0.7466 ; 36 : 0.7465 ; 37 : 0.747 ; 38 : 0.7466 ; 39 : 0.7465 ; 40 : 0.7466 ; 41 : 0.7467 ; 42 : 0.7466 ; 43 : 0.7463 ; 44 : 0.7466 ; 45 : 0.7469 ; 46 : 0.7468 ; 47 : 0.7467 ; 48 : 0.7467 ; 49 : 0.7463 ; 0.01 : 0.7463\n",
      "0 : 0.7361 ; 1 : 0.7407 ; 2 : 0.7428 ; 3 : 0.7425 ; 4 : 0.7432 ; 5 : 0.7436 ; 6 : 0.7451 ; 7 : 0.7462 ; 8 : 0.7452 ; 9 : 0.745 ; 10 : 0.7449 ; 11 : 0.7457 ; 12 : 0.7457 ; 13 : 0.7464 ; 14 : 0.7454 ; 15 : 0.7451 ; 16 : 0.7444 ; 17 : 0.7444 ; 18 : 0.7455 ; 19 : 0.7452 ; 20 : 0.7449 ; 21 : 0.7455 ; 22 : 0.7448 ; 23 : 0.7453 ; 24 : 0.7457 ; 25 : 0.7454 ; 26 : 0.7453 ; 27 : 0.7457 ; 28 : 0.7454 ; 29 : 0.7452 ; 30 : 0.7447 ; 31 : 0.7454 ; 32 : 0.7455 ; 33 : 0.7449 ; 34 : 0.7452 ; 35 : 0.7449 ; 36 : 0.7452 ; 37 : 0.7453 ; 38 : 0.7455 ; 39 : 0.7451 ; 40 : 0.745 ; 41 : 0.7455 ; 42 : 0.7453 ; 43 : 0.7459 ; 44 : 0.7452 ; 45 : 0.7454 ; 46 : 0.7453 ; 47 : 0.7453 ; 48 : 0.7456 ; 49 : 0.7461 ; 0.0125 : 0.7461\n"
     ]
    }
   ],
   "source": [
    "cs = [0.0075, 0.01, 0.0125]\n",
    "results = []\n",
    "for c in cs:\n",
    "    resample_weights_2(model, c=c)\n",
    "    sum_preds = np.zeros((len(loaders[\"test\"].dataset), 100))\n",
    "    num_models = 50\n",
    "    for i in range(num_models):\n",
    "        model.sample(1.)\n",
    "        model.eval()\n",
    "        preds, ys = utils.predictions(loaders[\"test\"], model)\n",
    "        sum_preds += preds\n",
    "        print(i, \":\", np.mean(np.argmax(sum_preds, axis=1) == ys), \"; \", end=\"\")\n",
    "    sum_preds /= num_models\n",
    "    res = np.mean(np.argmax(sum_preds, axis=1) == ys)\n",
    "    print(c, \":\", res)\n",
    "    results.append(res)"
   ]
  },
  {
   "cell_type": "markdown",
   "metadata": {},
   "source": [
    "## Are variances we get correlated with width?"
   ]
  },
  {
   "cell_type": "code",
   "execution_count": 43,
   "metadata": {},
   "outputs": [],
   "source": [
    "model = swag.SWAG(model_cfg.base, no_cov_mat=True, max_num_models=20, *model_cfg.args, num_classes=num_classes, **model_cfg.kwargs)\n",
    "# model2 = swag.SWAG(model_cfg.base, no_cov_mat=True, max_num_models=20, *model_cfg.args, num_classes=num_classes, **model_cfg.kwargs)\n",
    "\n",
    "ckpt = torch.load(\"/home/izmailovpavel/Documents/Projects/private_swa_uncertainties/ckpts/c100/vgg16/swag/run1/swag-300.pt\")\n",
    "model.load_state_dict(ckpt['state_dict'])\n",
    "model.cuda();\n"
   ]
  },
  {
   "cell_type": "code",
   "execution_count": 38,
   "metadata": {},
   "outputs": [],
   "source": [
    "def get_variances(model):\n",
    "    variances = {}\n",
    "    for module, name in model.params:\n",
    "        mean = module.__getattr__('%s_mean' % name)\n",
    "        sq_mean = module.__getattr__('%s_sq_mean' % name)\n",
    "        var = sq_mean - mean**2\n",
    "        variances[name] = (mean, var)\n",
    "    return variances"
   ]
  },
  {
   "cell_type": "code",
   "execution_count": 42,
   "metadata": {},
   "outputs": [],
   "source": [
    "def vary_parameter(model, module, name, idx, t):\n",
    "    mean = module.__getattr__('%s_mean' % name)\n",
    "    mean[idx] += t\n",
    "    module.__getattr__('%s_mean' % name).copy_(mean)"
   ]
  },
  {
   "cell_type": "code",
   "execution_count": 120,
   "metadata": {},
   "outputs": [
    {
     "name": "stdout",
     "output_type": "stream",
     "text": [
      "success\n"
     ]
    }
   ],
   "source": [
    "for module, name in model.params:\n",
    "    mean = module.__getattr__('%s_mean' % name)\n",
    "    sq_mean = module.__getattr__('%s_sq_mean' % name)\n",
    "    var = sq_mean - mean**2\n",
    "    var = var.cpu().numpy()\n",
    "    if np.max(var) > 1e-2:\n",
    "        print(\"success\")\n",
    "        break"
   ]
  },
  {
   "cell_type": "markdown",
   "metadata": {},
   "source": [
    "now let's fix module and name"
   ]
  },
  {
   "cell_type": "code",
   "execution_count": 121,
   "metadata": {},
   "outputs": [],
   "source": [
    "def get_idx_by_var(module, name, desired_var):\n",
    "    mean = module.__getattr__('%s_mean' % name)\n",
    "    sq_mean = module.__getattr__('%s_sq_mean' % name)\n",
    "    var = sq_mean - mean**2\n",
    "    var = var.cpu().numpy()\n",
    "    idx = np.unravel_index(np.argmin(np.abs(var - desired_var)), var.shape)\n",
    "    return idx"
   ]
  },
  {
   "cell_type": "code",
   "execution_count": 122,
   "metadata": {},
   "outputs": [],
   "source": [
    "def get_ray(model, module, name, ckpt, idx, tmin=-5, tmax=5):\n",
    "    loss_vals = {}\n",
    "    for t in tqdm.tqdm(np.linspace(-10, 10, 5)):\n",
    "        model.load_state_dict(ckpt['state_dict'])\n",
    "        vary_parameter(model, module, name, idx, t)\n",
    "        model.sample(0.)\n",
    "        loss = utils.eval(loaders[\"train\"], model, losses.cross_entropy)\n",
    "        loss_vals[t] = loss['loss']\n",
    "    ts = np.array(list(loss_vals.keys()))\n",
    "    loss_vals = np.array(list(loss_vals.values()))\n",
    "    idx = np.argsort(ts)\n",
    "    ts = ts[idx]\n",
    "    loss_vals = loss_vals[idx]\n",
    "    return loss_vals, ts"
   ]
  },
  {
   "cell_type": "code",
   "execution_count": 124,
   "metadata": {},
   "outputs": [
    {
     "name": "stderr",
     "output_type": "stream",
     "text": [
      "100%|██████████| 5/5 [00:24<00:00,  4.88s/it]\n",
      "100%|██████████| 5/5 [00:24<00:00,  4.88s/it]\n",
      "100%|██████████| 5/5 [00:24<00:00,  4.88s/it]\n",
      "100%|██████████| 5/5 [00:24<00:00,  4.89s/it]\n",
      "100%|██████████| 5/5 [00:24<00:00,  4.88s/it]\n"
     ]
    }
   ],
   "source": [
    "idx = get_idx_by_var(module, name, 1e-6)\n",
    "ls_1e6, ts_1e6 = get_ray(model, module, name, ckpt, idx)\n",
    "\n",
    "idx = get_idx_by_var(module, name, 1e-5)\n",
    "ls_1e5, ts_1e5 = get_ray(model, module, name, ckpt, idx)\n",
    "\n",
    "idx = get_idx_by_var(module, name, 1e-4)\n",
    "ls_1e4, ts_1e4 = get_ray(model, module, name, ckpt, idx)\n",
    "\n",
    "idx = get_idx_by_var(module, name, 1e-3)\n",
    "ls_1e3, ts_1e3 = get_ray(model, module, name, ckpt, idx)\n",
    "\n",
    "idx = get_idx_by_var(module, name, 1e-2)\n",
    "ls_1e2, ts_1e2 = get_ray(model, module, name, ckpt, idx)"
   ]
  },
  {
   "cell_type": "code",
   "execution_count": 125,
   "metadata": {},
   "outputs": [
    {
     "data": {
      "text/plain": [
       "<matplotlib.legend.Legend at 0x7fd24985e400>"
      ]
     },
     "execution_count": 125,
     "metadata": {},
     "output_type": "execute_result"
    },
    {
     "data": {
      "image/png": "[encoded data removed]",
      "text/plain": [
       "<Figure size 432x288 with 1 Axes>"
      ]
     },
     "metadata": {
      "needs_background": "light"
     },
     "output_type": "display_data"
    }
   ],
   "source": [
    "plt.plot(ts_1e6, ls_1e6, label=r\"$\\sigma^2=10^{-6}$\")\n",
    "plt.plot(ts_1e5, ls_1e5, label=r\"$\\sigma^2=10^{-5}$\")\n",
    "plt.plot(ts_1e4, ls_1e4, label=r\"$\\sigma^2=10^{-4}$\")\n",
    "plt.plot(ts_1e3, ls_1e3, label=r\"$\\sigma^2=10^{-3}$\")\n",
    "plt.plot(ts_1e2, ls_1e2, label=r\"$\\sigma^2=10^{-2}$\")\n",
    "plt.legend()"
   ]
  },
  {
   "cell_type": "markdown",
   "metadata": {},
   "source": [
    "## Can  we try to invert the variances?"
   ]
  },
  {
   "cell_type": "code",
   "execution_count": 58,
   "metadata": {},
   "outputs": [],
   "source": [
    "swag_model = swag.SWAG(model_cfg.base, no_cov_mat=True, max_num_models=20, *model_cfg.args, num_classes=num_classes, **model_cfg.kwargs)\n",
    "ckpt = torch.load(\"/home/izmailovpavel/Documents/Projects/private_swa_uncertainties/ckpts/c100/vgg16/swag/run1/swag-300.pt\")\n",
    "swag_model.load_state_dict(ckpt['state_dict'])\n",
    "swag_model.cuda();"
   ]
  },
  {
   "cell_type": "code",
   "execution_count": 57,
   "metadata": {},
   "outputs": [],
   "source": [
    "def invert_variances(model):\n",
    "    for module, name in model.params:\n",
    "        mean = module.__getattr__('%s_mean' % name)\n",
    "        sq_mean = module.__getattr__('%s_sq_mean' % name)\n",
    "        var = sq_mean - mean**2\n",
    "#         max_var = torch.max(torch.abs(var))\n",
    "#         min_var = torch.min(torch.abs(var))\n",
    "#         var = max_var * min_var / var\n",
    "#         var = 1e-9 / var\n",
    "        \n",
    "        new_var = torch.zeros_like(var)\n",
    "        new_var[torch.abs(var) <= 1e-3] = 1e-4#1e-4\n",
    "        new_var[torch.abs(var) <= 1e-6] = 1e-3#1e-3\n",
    "        new_var[torch.abs(var) > 1e-4] = 0.#1e-6\n",
    "        new_var[torch.abs(var) > 1e-3] = 0.#1e-6\n",
    "        new_var[torch.abs(var) > 1e-2] = 0.#1e-6\n",
    "        sq_mean = mean**2 + new_var\n",
    "        module.__getattr__('%s_sq_mean' % name).copy_(sq_mean)"
   ]
  },
  {
   "cell_type": "code",
   "execution_count": 59,
   "metadata": {},
   "outputs": [],
   "source": [
    "# invert_variances(swag_model)"
   ]
  },
  {
   "cell_type": "code",
   "execution_count": 60,
   "metadata": {},
   "outputs": [
    {
     "name": "stdout",
     "output_type": "stream",
     "text": [
      "tensor(0.0021, device='cuda:0')\n",
      "tensor(0.0048, device='cuda:0')\n",
      "tensor(0.0026, device='cuda:0')\n",
      "tensor(0.0019, device='cuda:0')\n",
      "tensor(0.0014, device='cuda:0')\n",
      "tensor(0.0004, device='cuda:0')\n",
      "tensor(0.0017, device='cuda:0')\n",
      "tensor(0.0005, device='cuda:0')\n",
      "tensor(0.0016, device='cuda:0')\n",
      "tensor(7.6939e-05, device='cuda:0')\n",
      "tensor(0.0015, device='cuda:0')\n",
      "tensor(6.5865e-05, device='cuda:0')\n",
      "tensor(0.0023, device='cuda:0')\n",
      "tensor(8.3825e-05, device='cuda:0')\n",
      "tensor(0.0015, device='cuda:0')\n",
      "tensor(0.0001, device='cuda:0')\n",
      "tensor(0.0013, device='cuda:0')\n",
      "tensor(0.0024, device='cuda:0')\n",
      "tensor(0.0010, device='cuda:0')\n",
      "tensor(0.0007, device='cuda:0')\n",
      "tensor(0.0003, device='cuda:0')\n",
      "tensor(0.0014, device='cuda:0')\n",
      "tensor(0.0016, device='cuda:0')\n",
      "tensor(0.0323, device='cuda:0')\n",
      "tensor(0.0005, device='cuda:0')\n",
      "tensor(7.9844e-05, device='cuda:0')\n",
      "tensor(0.0003, device='cuda:0')\n",
      "tensor(0.0009, device='cuda:0')\n",
      "tensor(0.0004, device='cuda:0')\n",
      "tensor(0.0034, device='cuda:0')\n",
      "tensor(0.0007, device='cuda:0')\n",
      "tensor(0.0003, device='cuda:0')\n"
     ]
    }
   ],
   "source": [
    "for module, name in swag_model.params:\n",
    "    mean = module.__getattr__('%s_mean' % name)\n",
    "    sq_mean = module.__getattr__('%s_sq_mean' % name)\n",
    "    var = sq_mean - mean**2\n",
    "    print(torch.max(var))"
   ]
  },
  {
   "cell_type": "code",
   "execution_count": 61,
   "metadata": {},
   "outputs": [
    {
     "name": "stdout",
     "output_type": "stream",
     "text": [
      "0 : 0.7264 ; 1 : 0.7392 ; 2 : 0.7434 ; 3 : 0.7433 ; 4 : 0.7447 ; 5 : 0.745 ; 6 : 0.7457 ; 7 : 0.746 ; 8 : 0.7463 ; 9 : 0.7466 ; 10 : 0.7481 ; 11 : 0.7458 ; 12 : 0.7464 ; 13 : 0.7469 ; 14 : 0.7477 ; 15 : 0.7482 ; 16 : 0.7468 ; 17 : 0.7475 ; 18 : 0.748 ; 19 : 0.7487 ; 20 : 0.7486 ; 21 : 0.7488 ; 22 : 0.7487 ; 23 : 0.7478 ; 24 : 0.7472 ; 25 : 0.7474 ; 26 : 0.7478 ; 27 : 0.7476 ; 28 : 0.7483 ; 29 : 0.7483 ; 30 : 0.7485 ; 31 : 0.7478 ; 32 : 0.7475 ; 33 : 0.7475 ; 34 : 0.7477 ; 35 : 0.7478 ; 36 : 0.7473 ; 37 : 0.7474 ; 38 : 0.7473 ; 39 : 0.7471 ; 40 : 0.7475 ; 41 : 0.747 ; 42 : 0.747 ; 43 : 0.7473 ; 44 : 0.7471 ; 45 : 0.7473 ; 46 : 0.7473 ; 47 : 0.7461 ; 48 : 0.7472 ; 49 : 0.7476 ; \n",
      "1.0 : 0.7476\n"
     ]
    }
   ],
   "source": [
    "scales = [1.]\n",
    "results = []\n",
    "for scale in scales:\n",
    "    sum_preds = np.zeros((len(loaders[\"test\"].dataset), 100))\n",
    "    num_models = 50\n",
    "    for i in range(num_models):\n",
    "        swag_model.sample(scale)\n",
    "        swag_model.eval()\n",
    "        preds, ys = utils.predictions(loaders[\"test\"], swag_model)\n",
    "        sum_preds += preds\n",
    "        print(i, \":\", np.mean(np.argmax(sum_preds, axis=1) == ys), \"; \", end=\"\")\n",
    "    sum_preds /= num_models\n",
    "    res = np.mean(np.argmax(sum_preds, axis=1) == ys)\n",
    "    print()\n",
    "    print(scale, \":\", res)\n",
    "    results.append(res)"
   ]
  },
  {
   "cell_type": "markdown",
   "metadata": {},
   "source": [
    "## SGD-SGD rays"
   ]
  },
  {
   "cell_type": "code",
   "execution_count": 298,
   "metadata": {},
   "outputs": [
    {
     "name": "stdout",
     "output_type": "stream",
     "text": [
      "Files already downloaded and verified\n",
      "You are going to run models on the test set. Are you sure?\n",
      "Files already downloaded and verified\n"
     ]
    }
   ],
   "source": [
    "model_cfg = getattr(models, \"VGG16\")\n",
    "loaders, num_classes = data.loaders(\n",
    "    \"CIFAR100\",\n",
    "    \"/home/izmailovpavel/datasets/\",\n",
    "    128,\n",
    "    4,\n",
    "    model_cfg.transform_train,\n",
    "    model_cfg.transform_test,\n",
    "    use_validation=False,\n",
    "    split_classes=None\n",
    ")"
   ]
  },
  {
   "cell_type": "code",
   "execution_count": 351,
   "metadata": {},
   "outputs": [],
   "source": [
    "model300 = model_cfg.base(num_classes=num_classes)\n",
    "ckpt = torch.load(\"/home/izmailovpavel/Documents/Projects/private_swa_uncertainties/ckpts/c100/vgg16/swag/run1/checkpoint-300.pt\")\n",
    "model300.load_state_dict(ckpt['state_dict'])\n",
    "model300.cuda();\n",
    "\n",
    "model275 = model_cfg.base(num_classes=num_classes)\n",
    "ckpt = torch.load(\"/home/izmailovpavel/Documents/Projects/private_swa_uncertainties/ckpts/c100/vgg16/swag/run1/checkpoint-275.pt\")\n",
    "model275.load_state_dict(ckpt['state_dict'])\n",
    "model275.cuda();\n",
    "\n",
    "model = model_cfg.base(num_classes=num_classes)"
   ]
  },
  {
   "cell_type": "code",
   "execution_count": 352,
   "metadata": {},
   "outputs": [],
   "source": [
    "def dist(m1, m2):\n",
    "    d = 0.\n",
    "    for param1, param2 in zip(m1.parameters(), m2.parameters()):\n",
    "        d += torch.norm(param1 - param2)**2\n",
    "    return torch.sqrt(d).item()"
   ]
  },
  {
   "cell_type": "code",
   "execution_count": 353,
   "metadata": {},
   "outputs": [
    {
     "data": {
      "text/plain": [
       "30.30549430847168"
      ]
     },
     "execution_count": 353,
     "metadata": {},
     "output_type": "execute_result"
    }
   ],
   "source": [
    "dist(model275, model300)"
   ]
  },
  {
   "cell_type": "code",
   "execution_count": 369,
   "metadata": {},
   "outputs": [],
   "source": [
    "def ray(model_target, model1, model2, t_min=-1., t_max=2., num_t=10.):\n",
    "    loss_vals = []\n",
    "    accs = []\n",
    "    dists = []\n",
    "    ts = np.linspace(t_min, t_max, num_t)\n",
    "    for t in tqdm.tqdm(ts):\n",
    "        for p1, p2, p3 in zip(model_target.parameters(), model1.parameters(), model2.parameters()):\n",
    "            p1.data = p2.data * (1 - t) + p3.data * (t)\n",
    "        d = dist(model_target, model1)\n",
    "#         print(d)\n",
    "#         print(t)\n",
    "        loss = utils.eval(loaders[\"train\"], model, losses.cross_entropy)\n",
    "        loss_vals.append(loss['loss'])\n",
    "        accs.append(loss['accuracy'])\n",
    "        dists.append(d * np.sign(t))\n",
    "#         print(dists)\n",
    "#         print()\n",
    "    return ts, dists, accs, loss_vals"
   ]
  },
  {
   "cell_type": "code",
   "execution_count": 370,
   "metadata": {},
   "outputs": [
    {
     "name": "stderr",
     "output_type": "stream",
     "text": [
      "100%|██████████| 10/10 [00:49<00:00,  4.92s/it]\n"
     ]
    }
   ],
   "source": [
    "ts, ds, accs, ls = ray(model, model275, model300, num_t=10)"
   ]
  },
  {
   "cell_type": "code",
   "execution_count": 371,
   "metadata": {},
   "outputs": [
    {
     "data": {
      "text/plain": [
       "[<matplotlib.lines.Line2D at 0x7fd24959ffd0>]"
      ]
     },
     "execution_count": 371,
     "metadata": {},
     "output_type": "execute_result"
    },
    {
     "data": {
      "image/png": "[encoded data removed]",
      "text/plain": [
       "<Figure size 432x288 with 1 Axes>"
      ]
     },
     "metadata": {
      "needs_background": "light"
     },
     "output_type": "display_data"
    }
   ],
   "source": [
    "plt.plot(ds, ls)"
   ]
  },
  {
   "cell_type": "code",
   "execution_count": 374,
   "metadata": {},
   "outputs": [],
   "source": [
    "rand_model = model_cfg.base(num_classes=num_classes)\n",
    "rand_model.cuda()\n",
    "norm= 0.\n",
    "for p in rand_model.parameters():\n",
    "    p.data = torch.randn_like(p)\n",
    "    norm += torch.norm(p.data)**2\n",
    "norm = torch.sqrt(norm)\n",
    "for p1, p2 in zip(model275.parameters(), rand_model.parameters()):\n",
    "    p2.data = p1.data + p2.data / norm"
   ]
  },
  {
   "cell_type": "code",
   "execution_count": 376,
   "metadata": {},
   "outputs": [
    {
     "name": "stderr",
     "output_type": "stream",
     "text": [
      "100%|██████████| 10/10 [00:48<00:00,  4.90s/it]\n"
     ]
    }
   ],
   "source": [
    "ts, ds, accs, ls = ray(model, model275, rand_model, t_min=-30, t_max=30, num_t=10)"
   ]
  },
  {
   "cell_type": "code",
   "execution_count": 377,
   "metadata": {},
   "outputs": [
    {
     "data": {
      "text/plain": [
       "[<matplotlib.lines.Line2D at 0x7fd248fc1c50>]"
      ]
     },
     "execution_count": 377,
     "metadata": {},
     "output_type": "execute_result"
    },
    {
     "data": {
      "image/png": "[encoded data removed]",
      "text/plain": [
       "<Figure size 432x288 with 1 Axes>"
      ]
     },
     "metadata": {
      "needs_background": "light"
     },
     "output_type": "display_data"
    }
   ],
   "source": [
    "plt.plot(ds, ls)"
   ]
  },
  {
   "cell_type": "code",
   "execution_count": null,
   "metadata": {},
   "outputs": [],
   "source": []
  }
 ],
 "metadata": {
  "kernelspec": {
   "display_name": "Python 3",
   "language": "python",
   "name": "python3"
  },
  "language_info": {
   "codemirror_mode": {
    "name": "ipython",
    "version": 3
   },
   "file_extension": ".py",
   "mimetype": "text/x-python",
   "name": "python",
   "nbconvert_exporter": "python",
   "pygments_lexer": "ipython3",
   "version": "3.5.2"
  }
 },
 "nbformat": 4,
 "nbformat_minor": 2
}
