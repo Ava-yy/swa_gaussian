{
 "cells": [
  {
   "cell_type": "code",
   "execution_count": 12,
   "metadata": {},
   "outputs": [],
   "source": [
    "import numpy as np\n",
    "import matplotlib.pyplot as plt\n",
    "import sys\n",
    "sys.path.append('..')\n",
    "\n",
    "%matplotlib inline"
   ]
  },
  {
   "cell_type": "code",
   "execution_count": 13,
   "metadata": {},
   "outputs": [],
   "source": [
    "#long_set = np.load('../swa_exps/ensembles/cifar10/swag_300_1_longset.npz')\n",
    "long_set = np.load('../exps/fr_ensembles/cifar100/swag_300_1.npz')\n",
    "long_set2 = np.load('/share/nikola/export/wm326/swa_uncertainties/exps/ensembles/cifar100/swag_300_1.npz')"
   ]
  },
  {
   "cell_type": "code",
   "execution_count": 14,
   "metadata": {},
   "outputs": [],
   "source": [
    "swag_cov = (long_set['result'][2:])[0:100:2]\n",
    "swag_nocov = (long_set['result'][2:])[1:100:2]\n",
    "swaglr_cov = (long_set2['result'][2:])[0:100:2]"
   ]
  },
  {
   "cell_type": "code",
   "execution_count": 22,
   "metadata": {},
   "outputs": [
    {
     "data": {
      "image/png": "[encoded data removed]",
      "text/plain": [
       "<Figure size 432x288 with 1 Axes>"
      ]
     },
     "metadata": {
      "needs_background": "light"
     },
     "output_type": "display_data"
    }
   ],
   "source": [
    "plt.errorbar(swag_cov[:,1].astype(np.int), swag_cov[:,4].astype(np.float), \n",
    "             yerr=swag_cov[:,5].astype(np.float), label='Cov')\n",
    "plt.errorbar(swaglr_cov[:,1].astype(np.int), swaglr_cov[:,3].astype(np.float), \n",
    "             yerr=swaglr_cov[:,4].astype(np.float), label='LowRank-Cov')\n",
    "plt.errorbar(swag_nocov[:,1].astype(np.int), swag_nocov[:,4].astype(np.float), \n",
    "             yerr=swag_nocov[:,5].astype(np.float), label='Diagonal')\n",
    "plt.plot(range(1,len(sgd_results)+1), sgd_results, label='SGD-Ensembles')\n",
    "plt.hlines(sgd_results[0], xmin=0, xmax=30, color='grey', label='SGD-Base')\n",
    "#plt.hlines([93.19+0.22, 93.19-0.22], xmin=0, xmax=100)\n",
    "plt.hlines(74.3, xmin=0, xmax=30, color='black', label='SWA')\n",
    "plt.xscale('log')\n",
    "plt.xlabel('Number of Samples in Ensemble', fontsize=16)\n",
    "plt.ylabel('Accuracy', fontsize=16)\n",
    "plt.legend()\n",
    "plt.title('VGG16 on CIFAR100')\n",
    "plt.savefig('../plots/cifar100_bma_accuracy_1214.eps')"
   ]
  },
  {
   "cell_type": "code",
   "execution_count": 27,
   "metadata": {},
   "outputs": [
    {
     "data": {
      "text/plain": [
       "array([['sgd', '0', 'False', '66.45', '0', '1.7671707557678222', '0'],\n",
       "       ['swa', '0', 'False', '74.3', '0', '1.2864751192092896', '0'],\n",
       "       ['swa', '1', 'True', '69.141', '2.106506349385161',\n",
       "        '1.491372026605606', '0.16066120311384288'],\n",
       "       ['swa', '1', 'False', '72.66900000000001', '0.15990309565483724',\n",
       "        '1.3197052219867706', '0.016544231269556356'],\n",
       "       ['swa', '3', 'True', '72.03099999999999', '1.2780332546534163',\n",
       "        '1.1105972498989103', '0.044737357250451144'],\n",
       "       ['swa', '3', 'False', '73.91', '0.2078460969082618',\n",
       "        '1.1307220286846162', '0.010048271317661691'],\n",
       "       ['swa', '10', 'True', '74.14099999999999', '0.20901913787976376',\n",
       "        '0.9883116201782226', '0.02038120483384483'],\n",
       "       ['swa', '10', 'False', '74.47099999999999', '0.1271573827978542',\n",
       "        '1.0514170285987856', '0.004194043620468002'],\n",
       "       ['swa', '20', 'True', '74.51599999999999', '0.16341358572652318',\n",
       "        '0.9722071056842804', '0.022252961020335867'],\n",
       "       ['swa', '20', 'False', '74.55', '0.15588457268120096',\n",
       "        '1.0322593827819826', '0.0043387413643792665'],\n",
       "       ['swa', '30', 'True', '74.681', '0.17575266712058882',\n",
       "        '0.950780013513565', '0.015023875292156827'],\n",
       "       ['swa', '30', 'False', '74.632', '0.11043550153823059',\n",
       "        '1.0266641986751555', '0.003192801376460168']], dtype='<U21')"
      ]
     },
     "execution_count": 27,
     "metadata": {},
     "output_type": "execute_result"
    }
   ],
   "source": [
    "long_set2['result']"
   ]
  },
  {
   "cell_type": "code",
   "execution_count": 33,
   "metadata": {},
   "outputs": [
    {
     "data": {
      "text/plain": [
       "array(['69.141', '72.03099999999999', '74.14099999999999',\n",
       "       '74.51599999999999', '74.681'], dtype='<U21')"
      ]
     },
     "execution_count": 33,
     "metadata": {},
     "output_type": "execute_result"
    }
   ],
   "source": [
    "swaglr_cov[:,3]"
   ]
  },
  {
   "cell_type": "code",
   "execution_count": 3,
   "metadata": {},
   "outputs": [],
   "source": [
    "import numpy as np\n",
    "swa_ecdf = np.load('ecdf_ensembles.npz')"
   ]
  },
  {
   "cell_type": "code",
   "execution_count": 11,
   "metadata": {},
   "outputs": [],
   "source": [
    "sgd_results = [dct['accuracy'] for dct in swa_ecdf['sgd_ecdf_ensembles']]"
   ]
  },
  {
   "cell_type": "code",
   "execution_count": 18,
   "metadata": {},
   "outputs": [
    {
     "data": {
      "text/plain": [
       "66.02"
      ]
     },
     "execution_count": 18,
     "metadata": {},
     "output_type": "execute_result"
    }
   ],
   "source": [
    "sgd_results[0]"
   ]
  },
  {
   "cell_type": "code",
   "execution_count": null,
   "metadata": {},
   "outputs": [],
   "source": []
  }
 ],
 "metadata": {
  "kernelspec": {
   "display_name": "Python 3",
   "language": "python",
   "name": "python3"
  },
  "language_info": {
   "codemirror_mode": {
    "name": "ipython",
    "version": 3
   },
   "file_extension": ".py",
   "mimetype": "text/x-python",
   "name": "python",
   "nbconvert_exporter": "python",
   "pygments_lexer": "ipython3",
   "version": "3.7.0"
  }
 },
 "nbformat": 4,
 "nbformat_minor": 2
}
