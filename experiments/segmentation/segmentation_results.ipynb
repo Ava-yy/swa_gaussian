{
 "cells": [
  {
   "cell_type": "code",
   "execution_count": 1,
   "metadata": {},
   "outputs": [],
   "source": [
    "import numpy as np\n",
    "\n",
    "import matplotlib.pyplot as plt\n",
    "%matplotlib inline"
   ]
  },
  {
   "cell_type": "code",
   "execution_count": 2,
   "metadata": {},
   "outputs": [],
   "source": [
    "from utils.training import numpy_metrics"
   ]
  },
  {
   "cell_type": "code",
   "execution_count": 3,
   "metadata": {},
   "outputs": [],
   "source": [
    "import glob"
   ]
  },
  {
   "cell_type": "code",
   "execution_count": 4,
   "metadata": {},
   "outputs": [],
   "source": [
    "def softmax(x, axis=1):\n",
    "    return np.exp(x) / np.sum(np.exp(x),axis=axis, keepdims=True)"
   ]
  },
  {
   "cell_type": "code",
   "execution_count": 5,
   "metadata": {},
   "outputs": [],
   "source": [
    "def ece(outputs, labels, name=\"\", bins=np.arange(0.1, 1.05, 0.05), print_name=False, background_label = 11):\n",
    "\n",
    "    if outputs is None:\n",
    "        ece = None\n",
    "    else:\n",
    "        confidences = np.max(outputs, 1)\n",
    "        predictions = np.argmax(outputs,1)\n",
    "        bin_lowers = bins[:-1]\n",
    "        bin_uppers = bins[1:]\n",
    "        \n",
    "        accuracies = predictions == labels \n",
    "\n",
    "        #ece = Variable(torch.zeros(1)).type_as(confidences)\n",
    "        ece = 0.0\n",
    "        for bin_lower, bin_upper in zip(bin_lowers, bin_uppers):\n",
    "            # Calculated |confidence - accuracy| in each bin\n",
    "            in_bin = (confidences > bin_lower) * (confidences < bin_upper)\n",
    "            prop_in_bin = in_bin.mean()\n",
    "            if prop_in_bin > 0:\n",
    "                accuracy_in_bin = accuracies[in_bin].mean()\n",
    "                avg_confidence_in_bin = confidences[in_bin].mean()\n",
    "                ece += np.abs(avg_confidence_in_bin-accuracy_in_bin) * prop_in_bin\n",
    "    if print_name:\n",
    "        print(name, end=\": \")\n",
    "    if ece is not None:\n",
    "        print(\"%.3f\"%ece)\n",
    "    else:\n",
    "        print(\"-\")\n",
    "    return ece"
   ]
  },
  {
   "cell_type": "code",
   "execution_count": 12,
   "metadata": {},
   "outputs": [],
   "source": [
    "def compute_mIOU_acc(loc, output_probs = True, background_class = 11):\n",
    "    npz_arr = np.load(loc)\n",
    "    \n",
    "    if output_probs:\n",
    "        pred_probs = npz_arr['predictions']\n",
    "    else:\n",
    "        pred_probs = softmax(npz_arr['preds'],1)\n",
    "    targets = npz_arr['targets']\n",
    "    \n",
    "    I, U, acc = numpy_metrics(pred_probs, targets)\n",
    "    mIOU = np.mean(I / U)\n",
    "    \n",
    "    filtered_targets = targets.reshape(-1)\n",
    "    background_labels = filtered_targets == background_class\n",
    "    filtered_targets = filtered_targets[~background_labels]\n",
    "    \n",
    "    filtered_pred_probs = pred_probs.reshape(-1, pred_probs.shape[1])\n",
    "    print(filtered_pred_probs.shape, filtered_pred_probs.sum(1).mean())\n",
    "    filtered_pred_probs = filtered_pred_probs[~background_labels, :]\n",
    "    \n",
    "    ece_val = ece(filtered_pred_probs, filtered_targets, print_name=False)\n",
    "    print(acc, mIOU, ece_val, loc)\n",
    "    return acc, mIOU, ece_val\n",
    "    "
   ]
  },
  {
   "cell_type": "code",
   "execution_count": 13,
   "metadata": {},
   "outputs": [
    {
     "name": "stdout",
     "output_type": "stream",
     "text": [
      "Now running  swag_v2\n",
      "(40262400, 11) 1.0000000163092146\n",
      "0.091\n",
      "0.90122923316984 0.5963490447443337 0.09119710592318797 test_preds/swag_v2/preds.npz\n",
      "Now running  drop_v3\n",
      "(40262400, 11) 1.0000000059618455\n",
      "0.088\n",
      "0.8582369743529388 0.5730634901020127 0.08765812476349522 test_preds/drop_v3/preds.npz\n",
      "Now running  swag_v3\n",
      "(40262400, 11) 1.0000000167198195\n",
      "0.091\n",
      "0.8973113909374301 0.5836219739910562 0.09101870187080591 test_preds/swag_v3/preds.npz\n",
      "Now running  swag_v4\n",
      "(40262400, 11) 1.000000017221361\n",
      "0.091\n",
      "0.8940361786560852 0.579722273512933 0.09132273007598482 test_preds/swag_v4/preds.npz\n",
      "Now running  swag_scale_05\n",
      "(40262400, 11) 1.000000016357578\n",
      "0.091\n",
      "0.9012262630531142 0.5970193596489862 0.09130706941536933 test_preds/swag_scale_05/preds.npz\n",
      "Now running  swag_scale_05_v2\n",
      "(40262400, 11) 1.0000000167893077\n",
      "0.091\n",
      "0.8968514360785554 0.5835723035447599 0.091116751596064 test_preds/swag_scale_05_v2/preds.npz\n",
      "Now running  swag_scale_05_v3\n",
      "(40262400, 11) 1.0000000173368202\n",
      "0.091\n",
      "0.894291608694508 0.5806040031650241 0.09142728093710795 test_preds/swag_scale_05_v3/preds.npz\n",
      "Now running  swag_diag\n",
      "(40262400, 11) 1.0000000163083076\n",
      "0.091\n",
      "0.90122923316984 0.5963490447443337 0.09119715760080649 test_preds/swag_diag/preds.npz\n",
      "Now running  swag_diag_v3\n",
      "(40262400, 11) 1.0000000172341892\n",
      "0.091\n",
      "0.89395838742497 0.5794386135626851 0.09131930164582462 test_preds/swag_diag_v3/preds.npz\n",
      "Now running  swag_diag_v2\n",
      "(40262400, 11) 1.0000000167191285\n",
      "0.091\n",
      "0.897311416764532 0.5836220246543136 0.09101875094339314 test_preds/swag_diag_v2/preds.npz\n",
      "Now running  swag_ale_scale_05\n",
      "(40262400, 11) 1.0000000173791497\n",
      "0.092\n",
      "0.901238608407853 0.6011613002904131 0.09176435915788354 test_preds/swag_ale_scale_05/preds.npz\n",
      "Now running  drop_ale\n",
      "(40262400, 11) 1.0000000058334528\n",
      "0.087\n",
      "0.8310433862512574 0.5389377015876101 0.08656006779315437 test_preds/drop_ale/preds.npz\n",
      "Now running  drop_v2\n",
      "(40262400, 11) 1.000000006777384\n",
      "0.087\n",
      "0.8366275414481726 0.5411013152091765 0.08718136352412016 test_preds/drop_v2/preds.npz\n"
     ]
    }
   ],
   "source": [
    "for f in glob.glob('test_preds/*/preds.npz'):\n",
    "    print('Now running ', f.split('/')[1])\n",
    "    compute_mIOU_acc(f)"
   ]
  },
  {
   "cell_type": "code",
   "execution_count": 14,
   "metadata": {},
   "outputs": [
    {
     "name": "stdout",
     "output_type": "stream",
     "text": [
      "(40262400, 11) 1.00000000589817\n",
      "0.089\n",
      "0.9022376007118156 0.6087888665322777 0.08900116104908891 test_preds/dropout/dropout.npz\n"
     ]
    },
    {
     "data": {
      "text/plain": [
       "(0.9022376007118156, 0.6087888665322777, 0.08900116104908891)"
      ]
     },
     "execution_count": 14,
     "metadata": {},
     "output_type": "execute_result"
    }
   ],
   "source": [
    "compute_mIOU_acc('test_preds/dropout/dropout.npz')"
   ]
  },
  {
   "cell_type": "code",
   "execution_count": 15,
   "metadata": {},
   "outputs": [
    {
     "name": "stdout",
     "output_type": "stream",
     "text": [
      "(40262400, 11) 1.0000000158994804\n",
      "0.092\n",
      "0.9073940591002091 0.6161459621346941 0.09157205975762094 test_preds/swag_cov/swag_50.npz\n"
     ]
    },
    {
     "data": {
      "text/plain": [
       "(0.9073940591002091, 0.6161459621346941, 0.09157205975762094)"
      ]
     },
     "execution_count": 15,
     "metadata": {},
     "output_type": "execute_result"
    }
   ],
   "source": [
    "compute_mIOU_acc('test_preds/swag_cov/swag_50.npz')"
   ]
  },
  {
   "cell_type": "code",
   "execution_count": 16,
   "metadata": {},
   "outputs": [],
   "source": [
    "dropout_locs = ['test_preds/drop_v2/preds.npz', 'test_preds/drop_v3/preds.npz']\n",
    "swagdiag_locs = ['test_preds/swag_diag/preds.npz', 'test_preds/swag_diag_v2/preds.npz', \n",
    "                 'test_preds/swag_diag_v3/preds.npz']\n",
    "swag_locs = ['test_preds/swag_scale_05/preds.npz', 'test_preds/swag_scale_05_v2/preds.npz', \n",
    "             'test_preds/swag_scale_05_v3/preds.npz']\n",
    "swa_locs = ['test_preds/sgd/swa_preds.npz', 'test_preds/sgd/swa_1000_v2.npz', 'test_preds/sgd/swa_1000_v3.npz']\n",
    "sgd_locs = ['test_preds/sgd/sgd_preds.npz', 'test_preds/sgd/sgd_1000_v2.npz', 'test_preds/sgd/sgd_1000_v3.npz']\n"
   ]
  },
  {
   "cell_type": "code",
   "execution_count": 13,
   "metadata": {},
   "outputs": [
    {
     "name": "stdout",
     "output_type": "stream",
     "text": [
      "0.040\n",
      "0.8405242312840742 0.5430310970106214 0.040217998904142724 test_preds/drop_v2/preds.npz\n",
      "0.040\n",
      "0.8582369743529388 0.5730634901020127 0.040161222809092276 test_preds/drop_v3/preds.npz\n"
     ]
    }
   ],
   "source": [
    "for d in dropout_locs:\n",
    "    compute_mIOU_acc(d)"
   ]
  },
  {
   "cell_type": "code",
   "execution_count": 15,
   "metadata": {},
   "outputs": [
    {
     "name": "stdout",
     "output_type": "stream",
     "text": [
      "0.085\n",
      "0.90122923316984 0.5963490447443337 0.08527136570525475 test_preds/swag_diag/preds.npz\n",
      "0.089\n",
      "0.897311416764532 0.5836220246543136 0.0885331741435351 test_preds/swag_diag_v2/preds.npz\n",
      "0.089\n",
      "0.89395838742497 0.5794386135626851 0.08909606774016379 test_preds/swag_diag_v3/preds.npz\n"
     ]
    }
   ],
   "source": [
    "for sd in swagdiag_locs:\n",
    "    compute_mIOU_acc(sd)"
   ]
  },
  {
   "cell_type": "code",
   "execution_count": 16,
   "metadata": {},
   "outputs": [
    {
     "name": "stdout",
     "output_type": "stream",
     "text": [
      "0.087\n",
      "0.9012262630531142 0.5970193596489862 0.0873648097786202 test_preds/swag_scale_05/preds.npz\n",
      "0.091\n",
      "0.8968514360785554 0.5835723035447599 0.09120995396217654 test_preds/swag_scale_05_v2/preds.npz\n",
      "0.091\n",
      "0.894291608694508 0.5806040031650241 0.09107189907951052 test_preds/swag_scale_05_v3/preds.npz\n"
     ]
    }
   ],
   "source": [
    "for loc in swag_locs:\n",
    "    compute_mIOU_acc(loc)"
   ]
  },
  {
   "cell_type": "code",
   "execution_count": 17,
   "metadata": {},
   "outputs": [
    {
     "name": "stdout",
     "output_type": "stream",
     "text": [
      "(40262400, 11) 1.000001\n",
      "0.090\n",
      "0.9055111600586347 0.6170782768632335 0.08959087652465114 test_preds/sgd/sgd_preds.npz\n",
      "(40262400, 11) 0.9999986\n",
      "0.090\n",
      "0.9065664296177767 0.6324223625404213 0.08964456501753963 test_preds/sgd/sgd_1000_v2.npz\n"
     ]
    },
    {
     "ename": "FileNotFoundError",
     "evalue": "[Errno 2] No such file or directory: 'test_preds/sgd/sgd_1000_v3.npz'",
     "output_type": "error",
     "traceback": [
      "\u001b[0;31m---------------------------------------------------------------------------\u001b[0m",
      "\u001b[0;31mFileNotFoundError\u001b[0m                         Traceback (most recent call last)",
      "\u001b[0;32m<ipython-input-17-abd22e3a2983>\u001b[0m in \u001b[0;36m<module>\u001b[0;34m()\u001b[0m\n\u001b[1;32m      1\u001b[0m \u001b[0;32mfor\u001b[0m \u001b[0mloc\u001b[0m \u001b[0;32min\u001b[0m \u001b[0msgd_locs\u001b[0m\u001b[0;34m:\u001b[0m\u001b[0;34m\u001b[0m\u001b[0m\n\u001b[0;32m----> 2\u001b[0;31m     \u001b[0mcompute_mIOU_acc\u001b[0m\u001b[0;34m(\u001b[0m\u001b[0mloc\u001b[0m\u001b[0;34m,\u001b[0m \u001b[0moutput_probs\u001b[0m \u001b[0;34m=\u001b[0m \u001b[0;32mFalse\u001b[0m\u001b[0;34m)\u001b[0m\u001b[0;34m\u001b[0m\u001b[0m\n\u001b[0m",
      "\u001b[0;32m<ipython-input-12-e574acbe4984>\u001b[0m in \u001b[0;36mcompute_mIOU_acc\u001b[0;34m(loc, output_probs, background_class)\u001b[0m\n\u001b[1;32m      1\u001b[0m \u001b[0;32mdef\u001b[0m \u001b[0mcompute_mIOU_acc\u001b[0m\u001b[0;34m(\u001b[0m\u001b[0mloc\u001b[0m\u001b[0;34m,\u001b[0m \u001b[0moutput_probs\u001b[0m \u001b[0;34m=\u001b[0m \u001b[0;32mTrue\u001b[0m\u001b[0;34m,\u001b[0m \u001b[0mbackground_class\u001b[0m \u001b[0;34m=\u001b[0m \u001b[0;36m11\u001b[0m\u001b[0;34m)\u001b[0m\u001b[0;34m:\u001b[0m\u001b[0;34m\u001b[0m\u001b[0m\n\u001b[0;32m----> 2\u001b[0;31m     \u001b[0mnpz_arr\u001b[0m \u001b[0;34m=\u001b[0m \u001b[0mnp\u001b[0m\u001b[0;34m.\u001b[0m\u001b[0mload\u001b[0m\u001b[0;34m(\u001b[0m\u001b[0mloc\u001b[0m\u001b[0;34m)\u001b[0m\u001b[0;34m\u001b[0m\u001b[0m\n\u001b[0m\u001b[1;32m      3\u001b[0m \u001b[0;34m\u001b[0m\u001b[0m\n\u001b[1;32m      4\u001b[0m     \u001b[0;32mif\u001b[0m \u001b[0moutput_probs\u001b[0m\u001b[0;34m:\u001b[0m\u001b[0;34m\u001b[0m\u001b[0m\n\u001b[1;32m      5\u001b[0m         \u001b[0mpred_probs\u001b[0m \u001b[0;34m=\u001b[0m \u001b[0mnpz_arr\u001b[0m\u001b[0;34m[\u001b[0m\u001b[0;34m'predictions'\u001b[0m\u001b[0;34m]\u001b[0m\u001b[0;34m\u001b[0m\u001b[0m\n",
      "\u001b[0;32m~/anaconda3/lib/python3.6/site-packages/numpy/lib/npyio.py\u001b[0m in \u001b[0;36mload\u001b[0;34m(file, mmap_mode, allow_pickle, fix_imports, encoding)\u001b[0m\n\u001b[1;32m    370\u001b[0m     \u001b[0mown_fid\u001b[0m \u001b[0;34m=\u001b[0m \u001b[0;32mFalse\u001b[0m\u001b[0;34m\u001b[0m\u001b[0m\n\u001b[1;32m    371\u001b[0m     \u001b[0;32mif\u001b[0m \u001b[0misinstance\u001b[0m\u001b[0;34m(\u001b[0m\u001b[0mfile\u001b[0m\u001b[0;34m,\u001b[0m \u001b[0mbasestring\u001b[0m\u001b[0;34m)\u001b[0m\u001b[0;34m:\u001b[0m\u001b[0;34m\u001b[0m\u001b[0m\n\u001b[0;32m--> 372\u001b[0;31m         \u001b[0mfid\u001b[0m \u001b[0;34m=\u001b[0m \u001b[0mopen\u001b[0m\u001b[0;34m(\u001b[0m\u001b[0mfile\u001b[0m\u001b[0;34m,\u001b[0m \u001b[0;34m\"rb\"\u001b[0m\u001b[0;34m)\u001b[0m\u001b[0;34m\u001b[0m\u001b[0m\n\u001b[0m\u001b[1;32m    373\u001b[0m         \u001b[0mown_fid\u001b[0m \u001b[0;34m=\u001b[0m \u001b[0;32mTrue\u001b[0m\u001b[0;34m\u001b[0m\u001b[0m\n\u001b[1;32m    374\u001b[0m     \u001b[0;32melif\u001b[0m \u001b[0mis_pathlib_path\u001b[0m\u001b[0;34m(\u001b[0m\u001b[0mfile\u001b[0m\u001b[0;34m)\u001b[0m\u001b[0;34m:\u001b[0m\u001b[0;34m\u001b[0m\u001b[0m\n",
      "\u001b[0;31mFileNotFoundError\u001b[0m: [Errno 2] No such file or directory: 'test_preds/sgd/sgd_1000_v3.npz'"
     ]
    }
   ],
   "source": [
    "for loc in sgd_locs:\n",
    "    compute_mIOU_acc(loc, output_probs = False)"
   ]
  },
  {
   "cell_type": "code",
   "execution_count": 18,
   "metadata": {},
   "outputs": [
    {
     "name": "stdout",
     "output_type": "stream",
     "text": [
      "(40262400, 11) 0.9999976\n",
      "0.092\n",
      "0.9061910326907318 0.632293765243613 0.09200716841388291 test_preds/sgd/swa_preds.npz\n",
      "(40262400, 11) 0.9999993\n",
      "0.084\n",
      "0.9067085561598839 0.6227126726749744 0.08432633156493038 test_preds/sgd/swa_1000_v2.npz\n",
      "(40262400, 11) 0.9999993\n",
      "0.084\n",
      "0.9065544716695675 0.6232305222448281 0.08447101325709701 test_preds/sgd/swa_1000_v3.npz\n"
     ]
    }
   ],
   "source": [
    "for loc in swa_locs:\n",
    "    compute_mIOU_acc(loc, output_probs = False)"
   ]
  },
  {
   "cell_type": "code",
   "execution_count": null,
   "metadata": {},
   "outputs": [],
   "source": []
  }
 ],
 "metadata": {
  "kernelspec": {
   "display_name": "Python 3",
   "language": "python",
   "name": "python3"
  },
  "language_info": {
   "codemirror_mode": {
    "name": "ipython",
    "version": 3
   },
   "file_extension": ".py",
   "mimetype": "text/x-python",
   "name": "python",
   "nbconvert_exporter": "python",
   "pygments_lexer": "ipython3",
   "version": "3.6.5"
  }
 },
 "nbformat": 4,
 "nbformat_minor": 2
}
