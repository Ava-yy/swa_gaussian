{
 "cells": [
  {
   "cell_type": "code",
   "execution_count": 1,
   "metadata": {},
   "outputs": [],
   "source": [
    "import numpy as np\n",
    "\n",
    "import matplotlib.pyplot as plt\n",
    "%matplotlib inline"
   ]
  },
  {
   "cell_type": "code",
   "execution_count": 2,
   "metadata": {},
   "outputs": [],
   "source": [
    "from utils.training import numpy_metrics"
   ]
  },
  {
   "cell_type": "code",
   "execution_count": 3,
   "metadata": {},
   "outputs": [],
   "source": [
    "def softmax(x, axis=1):\n",
    "    return np.exp(x) / np.sum(np.exp(x),axis=axis, keepdims=True)"
   ]
  },
  {
   "cell_type": "code",
   "execution_count": 4,
   "metadata": {},
   "outputs": [],
   "source": [
    "def ece(outputs, labels, name=\"\", bins=np.arange(0.1, 1.05, 0.05), print_name=False):\n",
    "\n",
    "    if outputs is None:\n",
    "        ece = None\n",
    "    else:\n",
    "        confidences = np.max(outputs, 1)\n",
    "        predictions = np.argmax(outputs,1)\n",
    "        bin_lowers = bins[:-1]\n",
    "        bin_uppers = bins[1:]\n",
    "        \n",
    "        accuracies = predictions == labels\n",
    "\n",
    "        #ece = Variable(torch.zeros(1)).type_as(confidences)\n",
    "        ece = 0.0\n",
    "        for bin_lower, bin_upper in zip(bin_lowers, bin_uppers):\n",
    "            # Calculated |confidence - accuracy| in each bin\n",
    "            in_bin = (confidences > bin_lower) * (confidences < bin_upper)\n",
    "            prop_in_bin = in_bin.mean()\n",
    "            if prop_in_bin > 0:\n",
    "                accuracy_in_bin = accuracies[in_bin].mean()\n",
    "                avg_confidence_in_bin = confidences[in_bin].mean()\n",
    "                ece += np.abs(avg_confidence_in_bin-accuracy_in_bin) * prop_in_bin\n",
    "    if print_name:\n",
    "        print(name, end=\": \")\n",
    "    if ece is not None:\n",
    "        print(\"%.3f\"%ece)\n",
    "    else:\n",
    "        print(\"-\")\n",
    "    return ece"
   ]
  },
  {
   "cell_type": "code",
   "execution_count": 5,
   "metadata": {},
   "outputs": [],
   "source": [
    "dropout_locs = ['test_preds/drop_v2/preds.npz', 'test_preds/drop_v3/preds.npz']\n",
    "swagdiag_locs = ['test_preds/swag_diag/preds.npz', 'test_preds/swag_diag_v2/preds.npz', \n",
    "                 'test_preds/swag_diag_v3/preds.npz']\n",
    "swag_locs = ['test_preds/swag_scale_05/preds.npz', 'test_preds/swag_scale_05_v2/preds.npz', \n",
    "             'test_preds/swag_scale_05_v3/preds.npz']\n",
    "swa_locs = ['test_preds/sgd/swa_preds.npz', 'test_preds/sgd/swa_1000_v2.npz', 'test_preds/sgd/swa_1000_v3.npz']\n",
    "sgd_locs = ['test_preds/sgd/sgd_preds.npz', 'test_preds/sgd/sgd_1000_v2.npz', 'test_preds/sgd/sgd_1000_v3.npz']\n"
   ]
  },
  {
   "cell_type": "code",
   "execution_count": 12,
   "metadata": {},
   "outputs": [],
   "source": [
    "def compute_mIOU_acc(loc, output_probs = True):\n",
    "    npz_arr = np.load(loc)\n",
    "    \n",
    "    if output_probs:\n",
    "        pred_probs = npz_arr['predictions']\n",
    "    else:\n",
    "        pred_probs = softmax(npz_arr['preds'],1)\n",
    "    targets = npz_arr['targets']\n",
    "    \n",
    "    I, U, acc = numpy_metrics(pred_probs, targets)\n",
    "    mIOU = np.mean(I / U)\n",
    "    \n",
    "    ece_val = ece(pred_probs, targets, print_name=False)\n",
    "    print(acc, mIOU, ece_val, loc)\n",
    "    return acc, mIOU, ece_val\n",
    "    "
   ]
  },
  {
   "cell_type": "code",
   "execution_count": 13,
   "metadata": {},
   "outputs": [
    {
     "name": "stdout",
     "output_type": "stream",
     "text": [
      "0.040\n",
      "0.8405242312840742 0.5430310970106214 0.040217998904142724 test_preds/drop_v2/preds.npz\n",
      "0.040\n",
      "0.8582369743529388 0.5730634901020127 0.040161222809092276 test_preds/drop_v3/preds.npz\n"
     ]
    }
   ],
   "source": [
    "for d in dropout_locs:\n",
    "    compute_mIOU_acc(d)"
   ]
  },
  {
   "cell_type": "code",
   "execution_count": 15,
   "metadata": {},
   "outputs": [
    {
     "name": "stdout",
     "output_type": "stream",
     "text": [
      "0.085\n",
      "0.90122923316984 0.5963490447443337 0.08527136570525475 test_preds/swag_diag/preds.npz\n",
      "0.089\n",
      "0.897311416764532 0.5836220246543136 0.0885331741435351 test_preds/swag_diag_v2/preds.npz\n",
      "0.089\n",
      "0.89395838742497 0.5794386135626851 0.08909606774016379 test_preds/swag_diag_v3/preds.npz\n"
     ]
    }
   ],
   "source": [
    "for sd in swagdiag_locs:\n",
    "    compute_mIOU_acc(sd)"
   ]
  },
  {
   "cell_type": "code",
   "execution_count": 16,
   "metadata": {},
   "outputs": [
    {
     "name": "stdout",
     "output_type": "stream",
     "text": [
      "0.087\n",
      "0.9012262630531142 0.5970193596489862 0.0873648097786202 test_preds/swag_scale_05/preds.npz\n",
      "0.091\n",
      "0.8968514360785554 0.5835723035447599 0.09120995396217654 test_preds/swag_scale_05_v2/preds.npz\n",
      "0.091\n",
      "0.894291608694508 0.5806040031650241 0.09107189907951052 test_preds/swag_scale_05_v3/preds.npz\n"
     ]
    }
   ],
   "source": [
    "for loc in swag_locs:\n",
    "    compute_mIOU_acc(loc)"
   ]
  },
  {
   "cell_type": "code",
   "execution_count": 18,
   "metadata": {},
   "outputs": [
    {
     "name": "stdout",
     "output_type": "stream",
     "text": [
      "0.056\n",
      "0.9055111600586347 0.6170782768632335 0.05566461245871768 test_preds/sgd/sgd_preds.npz\n",
      "0.081\n",
      "0.9065664296177767 0.6324223625404213 0.08127851358270965 test_preds/sgd/sgd_1000_v2.npz\n"
     ]
    },
    {
     "ename": "FileNotFoundError",
     "evalue": "[Errno 2] No such file or directory: 'test_preds/sgd/sgd_1000_v3.npz'",
     "output_type": "error",
     "traceback": [
      "\u001b[0;31m---------------------------------------------------------------------------\u001b[0m",
      "\u001b[0;31mFileNotFoundError\u001b[0m                         Traceback (most recent call last)",
      "\u001b[0;32m<ipython-input-18-abd22e3a2983>\u001b[0m in \u001b[0;36m<module>\u001b[0;34m()\u001b[0m\n\u001b[1;32m      1\u001b[0m \u001b[0;32mfor\u001b[0m \u001b[0mloc\u001b[0m \u001b[0;32min\u001b[0m \u001b[0msgd_locs\u001b[0m\u001b[0;34m:\u001b[0m\u001b[0;34m\u001b[0m\u001b[0m\n\u001b[0;32m----> 2\u001b[0;31m     \u001b[0mcompute_mIOU_acc\u001b[0m\u001b[0;34m(\u001b[0m\u001b[0mloc\u001b[0m\u001b[0;34m,\u001b[0m \u001b[0moutput_probs\u001b[0m \u001b[0;34m=\u001b[0m \u001b[0;32mFalse\u001b[0m\u001b[0;34m)\u001b[0m\u001b[0;34m\u001b[0m\u001b[0m\n\u001b[0m",
      "\u001b[0;32m<ipython-input-12-0e6c70632e02>\u001b[0m in \u001b[0;36mcompute_mIOU_acc\u001b[0;34m(loc, output_probs)\u001b[0m\n\u001b[1;32m      1\u001b[0m \u001b[0;32mdef\u001b[0m \u001b[0mcompute_mIOU_acc\u001b[0m\u001b[0;34m(\u001b[0m\u001b[0mloc\u001b[0m\u001b[0;34m,\u001b[0m \u001b[0moutput_probs\u001b[0m \u001b[0;34m=\u001b[0m \u001b[0;32mTrue\u001b[0m\u001b[0;34m)\u001b[0m\u001b[0;34m:\u001b[0m\u001b[0;34m\u001b[0m\u001b[0m\n\u001b[0;32m----> 2\u001b[0;31m     \u001b[0mnpz_arr\u001b[0m \u001b[0;34m=\u001b[0m \u001b[0mnp\u001b[0m\u001b[0;34m.\u001b[0m\u001b[0mload\u001b[0m\u001b[0;34m(\u001b[0m\u001b[0mloc\u001b[0m\u001b[0;34m)\u001b[0m\u001b[0;34m\u001b[0m\u001b[0m\n\u001b[0m\u001b[1;32m      3\u001b[0m \u001b[0;34m\u001b[0m\u001b[0m\n\u001b[1;32m      4\u001b[0m     \u001b[0;32mif\u001b[0m \u001b[0moutput_probs\u001b[0m\u001b[0;34m:\u001b[0m\u001b[0;34m\u001b[0m\u001b[0m\n\u001b[1;32m      5\u001b[0m         \u001b[0mpred_probs\u001b[0m \u001b[0;34m=\u001b[0m \u001b[0mnpz_arr\u001b[0m\u001b[0;34m[\u001b[0m\u001b[0;34m'predictions'\u001b[0m\u001b[0;34m]\u001b[0m\u001b[0;34m\u001b[0m\u001b[0m\n",
      "\u001b[0;32m~/anaconda3/lib/python3.6/site-packages/numpy/lib/npyio.py\u001b[0m in \u001b[0;36mload\u001b[0;34m(file, mmap_mode, allow_pickle, fix_imports, encoding)\u001b[0m\n\u001b[1;32m    370\u001b[0m     \u001b[0mown_fid\u001b[0m \u001b[0;34m=\u001b[0m \u001b[0;32mFalse\u001b[0m\u001b[0;34m\u001b[0m\u001b[0m\n\u001b[1;32m    371\u001b[0m     \u001b[0;32mif\u001b[0m \u001b[0misinstance\u001b[0m\u001b[0;34m(\u001b[0m\u001b[0mfile\u001b[0m\u001b[0;34m,\u001b[0m \u001b[0mbasestring\u001b[0m\u001b[0;34m)\u001b[0m\u001b[0;34m:\u001b[0m\u001b[0;34m\u001b[0m\u001b[0m\n\u001b[0;32m--> 372\u001b[0;31m         \u001b[0mfid\u001b[0m \u001b[0;34m=\u001b[0m \u001b[0mopen\u001b[0m\u001b[0;34m(\u001b[0m\u001b[0mfile\u001b[0m\u001b[0;34m,\u001b[0m \u001b[0;34m\"rb\"\u001b[0m\u001b[0;34m)\u001b[0m\u001b[0;34m\u001b[0m\u001b[0m\n\u001b[0m\u001b[1;32m    373\u001b[0m         \u001b[0mown_fid\u001b[0m \u001b[0;34m=\u001b[0m \u001b[0;32mTrue\u001b[0m\u001b[0;34m\u001b[0m\u001b[0m\n\u001b[1;32m    374\u001b[0m     \u001b[0;32melif\u001b[0m \u001b[0mis_pathlib_path\u001b[0m\u001b[0;34m(\u001b[0m\u001b[0mfile\u001b[0m\u001b[0;34m)\u001b[0m\u001b[0;34m:\u001b[0m\u001b[0;34m\u001b[0m\u001b[0m\n",
      "\u001b[0;31mFileNotFoundError\u001b[0m: [Errno 2] No such file or directory: 'test_preds/sgd/sgd_1000_v3.npz'"
     ]
    }
   ],
   "source": [
    "for loc in sgd_locs:\n",
    "    compute_mIOU_acc(loc, output_probs = False)"
   ]
  },
  {
   "cell_type": "code",
   "execution_count": null,
   "metadata": {},
   "outputs": [],
   "source": [
    "for loc in swa_locs:\n",
    "    compute_mIOU_acc(loc, output_probs = False)"
   ]
  },
  {
   "cell_type": "code",
   "execution_count": null,
   "metadata": {},
   "outputs": [],
   "source": []
  }
 ],
 "metadata": {
  "kernelspec": {
   "display_name": "Python 3",
   "language": "python",
   "name": "python3"
  },
  "language_info": {
   "codemirror_mode": {
    "name": "ipython",
    "version": 3
   },
   "file_extension": ".py",
   "mimetype": "text/x-python",
   "name": "python",
   "nbconvert_exporter": "python",
   "pygments_lexer": "ipython3",
   "version": "3.6.5"
  }
 },
 "nbformat": 4,
 "nbformat_minor": 2
}
