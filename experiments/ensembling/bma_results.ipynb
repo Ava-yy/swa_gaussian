{
 "cells": [
  {
   "cell_type": "code",
   "execution_count": 1,
   "metadata": {},
   "outputs": [],
   "source": [
    "import numpy as np\n",
    "import os, sys\n",
    "import tabulate\n"
   ]
  },
  {
   "cell_type": "code",
   "execution_count": 2,
   "metadata": {},
   "outputs": [],
   "source": [
    "#todo: check the variance estimates here: \n",
    "#https://stats.stackexchange.com/questions/25848/how-to-sum-a-standard-deviation\n",
    "def average_results(input):\n",
    "        out = np.stack(input)[:,:,3:].astype(np.float)\n",
    "        #mean, std, mean, std\n",
    "        out2 = np.stack((out[:,:,0].mean(0), np.power(out[:,:,1],2).sum(0) + out[:,:,0].var(0), \n",
    "                         out[:,:,2].mean(0), np.power(out[:,:,3],2).sum(0) + out[:,:,2].var(0)))\n",
    "        return np.c_[input[0][:,0:3], np.transpose(out2)]"
   ]
  },
  {
   "cell_type": "code",
   "execution_count": 19,
   "metadata": {},
   "outputs": [
    {
     "name": "stdout",
     "output_type": "stream",
     "text": [
      "swag_300_2.npz\n",
      "swag_300_3.npz\n",
      "swag_300_4.npz\n",
      "swag_300_5.npz\n",
      "swag_300_1.npz\n"
     ]
    }
   ],
   "source": [
    "cifar10_results = list()\n",
    "for f in os.listdir('../swa_exps/ensembles/cifar10/'):\n",
    "    print(f)\n",
    "    cifar10_results.append(np.load('../swa_exps/ensembles/cifar10/'+f)['result'])"
   ]
  },
  {
   "cell_type": "code",
   "execution_count": 22,
   "metadata": {},
   "outputs": [
    {
     "name": "stdout",
     "output_type": "stream",
     "text": [
      "swag_300_2.npz\n",
      "swag_300_3.npz\n",
      "swag_300_4.npz\n",
      "swag_300_5.npz\n",
      "swag_300_1.npz\n"
     ]
    }
   ],
   "source": [
    "cifar101_results = list()\n",
    "for f in os.listdir('../swa_exps/ensembles/cifar10.1/'):\n",
    "    print(f)\n",
    "    cifar101_results.append(np.load('../swa_exps/ensembles/cifar10.1/'+f)['result'])\n"
   ]
  },
  {
   "cell_type": "code",
   "execution_count": 3,
   "metadata": {},
   "outputs": [
    {
     "name": "stdout",
     "output_type": "stream",
     "text": [
      "swag_300_2.npz\n",
      "swag_300_3.npz\n",
      "swag_300_4.npz\n",
      "swag_300_5.npz\n",
      "swag_300_1.npz\n"
     ]
    }
   ],
   "source": [
    "cifar100_results = list()\n",
    "for f in os.listdir('../swa_exps/ensembles/cifar100/'):\n",
    "    print(f)\n",
    "    cifar100_results.append(np.load('../swa_exps/ensembles/cifar100/'+f)['result'])"
   ]
  },
  {
   "cell_type": "code",
   "execution_count": 5,
   "metadata": {},
   "outputs": [
    {
     "ename": "NameError",
     "evalue": "name 'cifar10_results' is not defined",
     "output_type": "error",
     "traceback": [
      "\u001b[0;31m---------------------------------------------------------------------------\u001b[0m",
      "\u001b[0;31mNameError\u001b[0m                                 Traceback (most recent call last)",
      "\u001b[0;32m<ipython-input-5-843b3ebbb907>\u001b[0m in \u001b[0;36m<module>\u001b[0;34m()\u001b[0m\n\u001b[1;32m      1\u001b[0m \u001b[0mcolumns\u001b[0m \u001b[0;34m=\u001b[0m \u001b[0;34m[\u001b[0m\u001b[0;34m'model'\u001b[0m\u001b[0;34m,\u001b[0m \u001b[0;34m'samples'\u001b[0m\u001b[0;34m,\u001b[0m \u001b[0;34m'cov'\u001b[0m\u001b[0;34m,\u001b[0m \u001b[0;34m'acc'\u001b[0m\u001b[0;34m,\u001b[0m \u001b[0;34m'acc_var'\u001b[0m\u001b[0;34m,\u001b[0m \u001b[0;34m'te_loss'\u001b[0m\u001b[0;34m,\u001b[0m \u001b[0;34m'te_loss_var'\u001b[0m\u001b[0;34m]\u001b[0m\u001b[0;34m\u001b[0m\u001b[0m\n\u001b[1;32m      2\u001b[0m \u001b[0;34m\u001b[0m\u001b[0m\n\u001b[0;32m----> 3\u001b[0;31m \u001b[0mvalues\u001b[0m \u001b[0;34m=\u001b[0m \u001b[0maverage_results\u001b[0m\u001b[0;34m(\u001b[0m\u001b[0mcifar10_results\u001b[0m\u001b[0;34m)\u001b[0m\u001b[0;34m\u001b[0m\u001b[0m\n\u001b[0m\u001b[1;32m      4\u001b[0m \u001b[0mtable\u001b[0m \u001b[0;34m=\u001b[0m \u001b[0mtabulate\u001b[0m\u001b[0;34m.\u001b[0m\u001b[0mtabulate\u001b[0m\u001b[0;34m(\u001b[0m\u001b[0mvalues\u001b[0m\u001b[0;34m,\u001b[0m \u001b[0mcolumns\u001b[0m\u001b[0;34m,\u001b[0m \u001b[0mtablefmt\u001b[0m\u001b[0;34m=\u001b[0m\u001b[0;34m'simple'\u001b[0m\u001b[0;34m,\u001b[0m \u001b[0mfloatfmt\u001b[0m\u001b[0;34m=\u001b[0m\u001b[0;34m'8.4f'\u001b[0m\u001b[0;34m)\u001b[0m\u001b[0;34m\u001b[0m\u001b[0m\n\u001b[1;32m      5\u001b[0m \u001b[0mprint\u001b[0m\u001b[0;34m(\u001b[0m\u001b[0mtable\u001b[0m\u001b[0;34m)\u001b[0m\u001b[0;34m\u001b[0m\u001b[0m\n",
      "\u001b[0;31mNameError\u001b[0m: name 'cifar10_results' is not defined"
     ]
    }
   ],
   "source": [
    "columns = ['model', 'samples', 'cov', 'acc', 'acc_var', 'te_loss', 'te_loss_var']\n",
    "\n",
    "values = average_results(cifar10_results)\n",
    "table = tabulate.tabulate(values, columns, tablefmt='simple', floatfmt='8.4f')\n",
    "print(table)"
   ]
  },
  {
   "cell_type": "code",
   "execution_count": 23,
   "metadata": {},
   "outputs": [
    {
     "name": "stdout",
     "output_type": "stream",
     "text": [
      "model      samples  cov         acc    acc_var    te_loss    te_loss_var\n",
      "-------  ---------  -----  --------  ---------  ---------  -------------\n",
      "sgd              0  False   80.7900     0.9234     0.8259         0.0039\n",
      "swa              0  False   86.1400     0.3434     0.5770         0.0005\n",
      "swa              1  True    83.3890     6.0216     0.6393         0.0133\n",
      "swa              1  False   85.1130     0.9067     0.6023         0.0015\n",
      "swa              3  True    85.1800     0.8943     0.4965         0.0012\n",
      "swa              3  False   85.8930     0.5235     0.5274         0.0006\n",
      "swa             10  True    86.0550     0.5680     0.4463         0.0004\n",
      "swa             10  False   86.1330     0.3698     0.4984         0.0003\n",
      "swa             20  True    86.2190     0.4891     0.4359         0.0002\n",
      "swa             20  False   86.1520     0.4404     0.4921         0.0003\n",
      "swa             30  True    86.2350     0.4525     0.4307         0.0002\n",
      "swa             30  False   86.1830     0.3292     0.4892         0.0003\n"
     ]
    }
   ],
   "source": [
    "values = average_results(cifar101_results)\n",
    "table = tabulate.tabulate(values, columns, tablefmt='simple', floatfmt='8.4f')\n",
    "print(table)"
   ]
  },
  {
   "cell_type": "code",
   "execution_count": 6,
   "metadata": {},
   "outputs": [
    {
     "name": "stdout",
     "output_type": "stream",
     "text": [
      "model      samples  cov         acc    acc_var    te_loss    te_loss_var\n",
      "-------  ---------  -----  --------  ---------  ---------  -------------\n",
      "sgd              0  False   67.1480     0.1645     1.7112         0.0008\n",
      "swa              0  False   74.0380     0.0609     1.2881         0.0001\n",
      "swa              1  True    69.2562    28.8660     1.4191         0.0752\n",
      "swa              1  False   72.4772     0.2494     1.3139         0.0012\n",
      "swa              3  True    72.2390     3.7517     1.1118         0.0155\n",
      "swa              3  False   73.7032     0.2200     1.1285         0.0003\n",
      "swa             10  True    74.0814     0.2138     0.9841         0.0024\n",
      "swa             10  False   74.2862     0.1432     1.0491         0.0001\n",
      "swa             20  True    74.4132     0.1155     0.9586         0.0014\n",
      "swa             20  False   74.3898     0.0901     1.0305         0.0001\n",
      "swa             30  True    74.5652     0.1536     0.9496         0.0011\n",
      "swa             30  False   74.4442     0.0986     1.0234         0.0001\n"
     ]
    }
   ],
   "source": [
    "columns = ['model', 'samples', 'cov', 'acc', 'acc_var', 'te_loss', 'te_loss_var']\n",
    "values = average_results(cifar100_results)\n",
    "table = tabulate.tabulate(values, columns, tablefmt='simple', floatfmt='8.4f')\n",
    "print(table)"
   ]
  },
  {
   "cell_type": "code",
   "execution_count": 9,
   "metadata": {},
   "outputs": [
    {
     "data": {
      "text/plain": [
       "[array([['sgd', '0', 'False', '66.56', '0', '1.7181287141799926', '0'],\n",
       "        ['swa', '0', 'False', '72.96000000000001', '0',\n",
       "         '1.365576909828186', '0'],\n",
       "        ['swa', '1', 'True', '69.432', '1.307484607939993',\n",
       "         '1.4430180644989012', '0.09801390723049155'],\n",
       "        ['swa', '1', 'False', '71.433', '0.22414504232750673',\n",
       "         '1.3888988215923308', '0.02027159107874647'],\n",
       "        ['swa', '3', 'True', '71.477', '0.5168374986395627',\n",
       "         '1.1572039606571198', '0.025854600209745292'],\n",
       "        ['swa', '3', 'False', '72.78800000000001', '0.15471263684650965',\n",
       "         '1.1983408789443968', '0.009077934548318175'],\n",
       "        ['swa', '10', 'True', '73.07', '0.24170229622409428',\n",
       "         '1.0179014664745332', '0.009550995334134752'],\n",
       "        ['swa', '10', 'False', '73.17', '0.08660254037844567',\n",
       "         '1.1179399669265746', '0.004388412004123299'],\n",
       "        ['swa', '20', 'True', '73.334', '0.14388884598884216',\n",
       "         '0.9906343234348297', '0.006663248601902131'],\n",
       "        ['swa', '20', 'False', '73.27600000000001', '0.08991106717195647',\n",
       "         '1.0949176729202272', '0.001986253499910372'],\n",
       "        ['swa', '30', 'True', '73.57200000000002', '0.11643023662261917',\n",
       "         '0.9774670513248443', '0.006509328824718724'],\n",
       "        ['swa', '30', 'False', '73.372', '0.1133843022644689',\n",
       "         '1.0877187891578675', '0.001902710800684609']], dtype='<U20'),\n",
       " array([['sgd', '0', 'False', '66.17', '0', '1.794020237350464', '0'],\n",
       "        ['swa', '0', 'False', '73.39', '0', '1.3636087915420532', '0'],\n",
       "        ['swa', '1', 'True', '68.2', '2.3225374055114822',\n",
       "         '1.5166649886512757', '0.041635771212721676'],\n",
       "        ['swa', '1', 'False', '71.754', '0.21481154531355845',\n",
       "         '1.3906780847549438', '0.010472347581997134'],\n",
       "        ['swa', '3', 'True', '71.364', '0.9780204496839503',\n",
       "         '1.1584996496582032', '0.04787689320150068'],\n",
       "        ['swa', '3', 'False', '73.184', '0.14207040508142443',\n",
       "         '1.1960717088508606', '0.008184800887337943'],\n",
       "        ['swa', '10', 'True', '73.42699999999999', '0.22860664907215744',\n",
       "         '1.0202387787723544', '0.012653324548613202'],\n",
       "        ['swa', '10', 'False', '73.547', '0.11849472562101782',\n",
       "         '1.114938927192688', '0.0033470691342977698'],\n",
       "        ['swa', '20', 'True', '73.68', '0.1708800749063494',\n",
       "         '0.9939345027160644', '0.017856560452924417'],\n",
       "        ['swa', '20', 'False', '73.768', '0.12496399481450601',\n",
       "         '1.0938019848823548', '0.0016374250540081368'],\n",
       "        ['swa', '30', 'True', '73.86699999999999', '0.09726767191621562',\n",
       "         '0.9783514535140991', '0.005962477893573833'],\n",
       "        ['swa', '30', 'False', '73.73700000000001', '0.0900055553840966',\n",
       "         '1.087436113586426', '0.0027198260056283375']], dtype='<U21'),\n",
       " array([['sgd', '0', 'False', '66.19', '0', '1.8178817739486695', '0'],\n",
       "        ['swa', '0', 'False', '72.76', '0', '1.381214319229126', '0'],\n",
       "        ['swa', '1', 'True', '67.678', '2.091653891063242',\n",
       "         '1.4910257314014435', '0.07617347394185574'],\n",
       "        ['swa', '1', 'False', '71.317', '0.23379692042454117',\n",
       "         '1.404904372730255', '0.026332574347307878'],\n",
       "        ['swa', '3', 'True', '71.47200000000001', '0.5864776210564209',\n",
       "         '1.1534132981586454', '0.016792431716932982'],\n",
       "        ['swa', '3', 'False', '72.53', '0.0840238061503997',\n",
       "         '1.2060722063636777', '0.008294078861093606'],\n",
       "        ['swa', '10', 'True', '72.897', '0.20538013535880353',\n",
       "         '1.0338669202613828', '0.015412591152192297'],\n",
       "        ['swa', '10', 'False', '73.08099999999999', '0.11978731151503823',\n",
       "         '1.1216824185657503', '0.004061044335379642'],\n",
       "        ['swa', '20', 'True', '73.211', '0.1391006829602223',\n",
       "         '1.0099648729228974', '0.015489399417485958'],\n",
       "        ['swa', '20', 'False', '73.109', '0.11768177428982017',\n",
       "         '1.1038702937602998', '0.002937086584341128']], dtype='<U20'),\n",
       " array([['sgd', '0', 'False', '64.8', '0', '1.8721150436401368', '0'],\n",
       "        ['swa', '0', 'False', '72.71', '0', '1.3864687069892883', '0'],\n",
       "        ['swa', '1', 'True', '68.42', '1.5257719357754636',\n",
       "         '1.507266380252838', '0.06488314086147583'],\n",
       "        ['swa', '1', 'False', '71.30699999999999', '0.23233811568488066',\n",
       "         '1.388970395679474', '0.020274281854042116'],\n",
       "        ['swa', '3', 'True', '71.21300000000001', '0.5908646207042707',\n",
       "         '1.1742668796348572', '0.07227621107812082'],\n",
       "        ['swa', '3', 'False', '72.545', '0.21153013969644838',\n",
       "         '1.211754044008255', '0.013600305134053964'],\n",
       "        ['swa', '10', 'True', '72.839', '0.22704404858969723',\n",
       "         '1.0333215592575073', '0.021036253968473115'],\n",
       "        ['swa', '10', 'False', '72.955', '0.10781929326423688',\n",
       "         '1.123519000482559', '0.005590051128928369'],\n",
       "        ['swa', '20', 'True', '73.138', '0.15111584959890606',\n",
       "         '0.9992624716949463', '0.005528757994681175'],\n",
       "        ['swa', '20', 'False', '72.97999999999999', '0.11772850122209065',\n",
       "         '1.1046128685569763', '0.0012916718698302316']], dtype='<U21'),\n",
       " array([['sgd', '0', 'False', '66.14999999999999', '0',\n",
       "         '1.7651695117950439', '0'],\n",
       "        ['swa', '0', 'False', '72.94', '0', '1.3992629568099975', '0'],\n",
       "        ['swa', '1', 'True', '68.57300000000001', '1.4342179053407462',\n",
       "         '1.4658350407123566', '0.1329537631679974'],\n",
       "        ['swa', '1', 'False', '71.388', '0.19306993551560614',\n",
       "         '1.4023490732192994', '0.020186848358222785'],\n",
       "        ['swa', '3', 'True', '71.686', '0.5143967340487299',\n",
       "         '1.146476892232895', '0.00986268529650616'],\n",
       "        ['swa', '3', 'False', '72.754', '0.24129649810969145',\n",
       "         '1.2216865021324157', '0.006679686417389824'],\n",
       "        ['swa', '10', 'True', '73.126', '0.23660938273872373',\n",
       "         '1.0309699940681458', '0.007965756192145214'],\n",
       "        ['swa', '10', 'False', '73.212', '0.13496666255042383',\n",
       "         '1.1322341958236692', '0.005579947174424979'],\n",
       "        ['swa', '20', 'True', '73.54400000000001', '0.15976232346833233',\n",
       "         '1.003450712003708', '0.010115617300813702'],\n",
       "        ['swa', '20', 'False', '73.41099999999999', '0.10894494022211362',\n",
       "         '1.112501000099182', '0.002190896201929815'],\n",
       "        ['swa', '30', 'True', '73.557', '0.14615402833996632',\n",
       "         '0.9881630910682679', '0.005227107818806214'],\n",
       "        ['swa', '30', 'False', '73.422', '0.11285388783732682',\n",
       "         '1.1035150909519194', '0.0017861216324575352']], dtype='<U21')]"
      ]
     },
     "execution_count": 9,
     "metadata": {},
     "output_type": "execute_result"
    }
   ],
   "source": [
    "cifar100_results"
   ]
  },
  {
   "cell_type": "code",
   "execution_count": null,
   "metadata": {},
   "outputs": [],
   "source": []
  }
 ],
 "metadata": {
  "kernelspec": {
   "display_name": "Python 3",
   "language": "python",
   "name": "python3"
  },
  "language_info": {
   "codemirror_mode": {
    "name": "ipython",
    "version": 3
   },
   "file_extension": ".py",
   "mimetype": "text/x-python",
   "name": "python",
   "nbconvert_exporter": "python",
   "pygments_lexer": "ipython3",
   "version": "3.6.5"
  }
 },
 "nbformat": 4,
 "nbformat_minor": 2
}
