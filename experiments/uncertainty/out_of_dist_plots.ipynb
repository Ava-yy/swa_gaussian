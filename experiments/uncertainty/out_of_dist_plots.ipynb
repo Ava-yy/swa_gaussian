{
 "cells": [
  {
   "cell_type": "code",
   "execution_count": 1,
   "metadata": {},
   "outputs": [],
   "source": [
    "import numpy as np\n",
    "import matplotlib.pyplot as plt"
   ]
  },
  {
   "cell_type": "code",
   "execution_count": 2,
   "metadata": {},
   "outputs": [],
   "source": [
    "from scipy.stats import entropy"
   ]
  },
  {
   "cell_type": "code",
   "execution_count": 3,
   "metadata": {},
   "outputs": [],
   "source": [
    "from temp_scaling import optimal_temp_scale, rescale_temp\n"
   ]
  },
  {
   "cell_type": "code",
   "execution_count": 4,
   "metadata": {},
   "outputs": [],
   "source": [
    "def plot_entropy(myax, inclass, outclass, label, bins = np.logspace(-8, 0.5, num=30), show_legend = False):\n",
    "    myax.set_title(str(label), fontsize=12)\n",
    "    myax.set_xscale('log')\n",
    "    #bins = 10 ** np.linspace(-8, 0.5, 30)\n",
    "    myax.hist(inclass, bins=bins, color='red', label='In Class')\n",
    "    myax.hist(outclass, bins=bins, color='black', alpha=0.3, label = 'Out of Class')\n",
    "    myax.set_ylim((0, 1000))\n",
    "    if show_legend:\n",
    "        myax.legend()"
   ]
  },
  {
   "cell_type": "code",
   "execution_count": 5,
   "metadata": {},
   "outputs": [],
   "source": [
    "swag_inclass = np.load('CIFAR5/unc_1_swag.npz')\n",
    "swag_outclass = np.load('CIFAR5/unc_0_swag.npz')\n",
    "\n",
    "swagdiag_inclass = np.load('CIFAR5/unc_1_swagdiag.npz')\n",
    "swagdiag_outclass = np.load('CIFAR5/unc_0_swagdiag.npz')\n",
    "\n",
    "drop_inclass = np.load('CIFAR5/unc_1_drop.npz')\n",
    "drop_outclass = np.load('CIFAR5/unc_0_drop.npz')\n",
    "\n",
    "sgd_inclass = np.load('CIFAR5/unc_1_sgd.npz')\n",
    "sgd_outclass = np.load('CIFAR5/unc_0_sgd.npz')\n",
    "\n",
    "swa_inclass = np.load('CIFAR5/unc_1_swa.npz')\n",
    "swa_outclass = np.load('CIFAR5/unc_0_swa.npz')\n",
    "\n",
    "swagdrop_inclass = np.load('CIFAR5/unc_1_swagdrop.npz')\n",
    "swagdrop_outclass = np.load('CIFAR5/unc_0_swagdrop.npz')"
   ]
  },
  {
   "cell_type": "code",
   "execution_count": 6,
   "metadata": {},
   "outputs": [],
   "source": [
    "sgd_val = np.load('CIFAR5/unc_sgd_val.npz')\n",
    "ts_inclass = np.load('CIFAR5/unc_sgd.npz')\n",
    "ts_outclass = np.load('CIFAR5/unc_0_ts.npz')"
   ]
  },
  {
   "cell_type": "code",
   "execution_count": 7,
   "metadata": {},
   "outputs": [
    {
     "name": "stdout",
     "output_type": "stream",
     "text": [
      "Before temperature - NLL: 0.177\n",
      "After temperature - NLL: 0.162 , Temperature: tensor([1.1490], requires_grad=True)\n"
     ]
    },
    {
     "name": "stderr",
     "output_type": "stream",
     "text": [
      "/home/wesley/Desktop/tesla/swa_uncertainties/experiments/uncertainty/temp_scaling.py:35: UserWarning: Implicit dimension choice for softmax has been deprecated. Change the call to include dim=X as an argument.\n",
      "  return T.item(), F.softmax(logits / T).data.numpy()\n"
     ]
    }
   ],
   "source": [
    "T_sgd, rescaled_sgd = optimal_temp_scale(sgd_val[\"predictions\"], sgd_val[\"targets\"], max_iter=50, lr=1e-3)\n"
   ]
  },
  {
   "cell_type": "code",
   "execution_count": 8,
   "metadata": {},
   "outputs": [],
   "source": [
    "ts_inclass_predictions = rescale_temp(ts_inclass['predictions'], T_sgd)\n",
    "ts_outclass_predictions = rescale_temp(ts_outclass['predictions'], T_sgd)"
   ]
  },
  {
   "cell_type": "code",
   "execution_count": 9,
   "metadata": {},
   "outputs": [],
   "source": [
    "eps = 1e-12\n",
    "ts_inclass_entropies = -np.sum(np.log(ts_inclass_predictions + eps) * ts_inclass_predictions, axis=1)\n",
    "ts_outclass_entropies = -np.sum(np.log(ts_outclass_predictions + eps) * ts_outclass_predictions, axis=1)"
   ]
  },
  {
   "cell_type": "code",
   "execution_count": 10,
   "metadata": {},
   "outputs": [
    {
     "data": {
      "image/png": "[encoded data removed]",
      "text/plain": [
       "<Figure size 864x720 with 6 Axes>"
      ]
     },
     "metadata": {},
     "output_type": "display_data"
    }
   ],
   "source": [
    "plt.rcParams[\"figure.figsize\"] = (12,10)\n",
    "f, axarr = plt.subplots(2,3)\n",
    "plot_entropy(axarr[0,0], swag_inclass['entropies'], swag_outclass['entropies'], 'SWAG', show_legend=True)\n",
    "plot_entropy(axarr[0,1], sgd_inclass['entropies'], sgd_outclass['entropies'], 'SGD')\n",
    "plot_entropy(axarr[0,2], drop_inclass['entropies'], drop_outclass['entropies'], 'Dropout')\n",
    "plot_entropy(axarr[1,0], swagdiag_inclass['entropies'], swagdiag_outclass['entropies'], 'SWAG-Diag')\n",
    "plot_entropy(axarr[1,1], swa_inclass['entropies'], swa_outclass['entropies'], 'SWA')\n",
    "plot_entropy(axarr[1,2], ts_inclass_entropies, ts_outclass_entropies, 'Temperature Scaling',)\n",
    "plt.savefig('/home/wesley/Documents/Papers/udl_paper_source/icml/plots/pics/c55_entropy_hists.pdf')"
   ]
  },
  {
   "cell_type": "code",
   "execution_count": 17,
   "metadata": {},
   "outputs": [],
   "source": [
    "np.savez('/home/wesley/Documents/Papers/udl_paper_source/icml/plots/data/c55_entropies.npz',\n",
    "        swag={'in':swag_inclass['entropies'], 'out':swag_outclass['entropies']},\n",
    "        swag_diag={'in':swagdiag_inclass['entropies'], 'out': swagdiag_outclass['entropies']},\n",
    "         drop={'in':drop_inclass['entropies'], 'out': drop_outclass['entropies']},\n",
    "         sgd={'in':sgd_inclass['entropies'], 'out':sgd_outclass['entropies']},\n",
    "         swa={'in':swa_inclass['entropies'], 'out':swa_outclass['entropies']},\n",
    "         ts={'in':ts_inclass_entropies, 'out':ts_outclass_entropies, 'temp':T_sgd}\n",
    "        )"
   ]
  },
  {
   "cell_type": "code",
   "execution_count": 11,
   "metadata": {},
   "outputs": [],
   "source": [
    "def binned_kl_distance(dist1, dist2, smooth=1e-7, bins = np.logspace(-8, 0.5, num=30)):\n",
    "    dist1_pdf, _ = np.histogram(dist1, bins)\n",
    "    dist2_pdf, _ = np.histogram(dist2, bins)\n",
    "    \n",
    "    dist1_pdf = dist1_pdf + smooth\n",
    "    dist2_pdf = dist2_pdf + smooth\n",
    "    \n",
    "    dist1_pdf_normalized = dist1_pdf / dist1_pdf.sum()\n",
    "    dist2_pdf_normalized = dist2_pdf / dist2_pdf.sum()\n",
    "    \n",
    "    kldist = entropy(dist1_pdf_normalized, dist2_pdf_normalized) + entropy(dist2_pdf_normalized, dist1_pdf_normalized)\n",
    "    print(kldist)\n",
    "    return kldist"
   ]
  },
  {
   "cell_type": "code",
   "execution_count": 12,
   "metadata": {},
   "outputs": [
    {
     "name": "stdout",
     "output_type": "stream",
     "text": [
      "3.3122097048920525\n",
      "3.147469679750145\n",
      "3.033979772295697\n",
      "2.267619554875406\n",
      "1.6859929584326525\n",
      "2.2411515900226866\n",
      "2.9845347377810465\n"
     ]
    },
    {
     "data": {
      "text/plain": [
       "2.9845347377810465"
      ]
     },
     "execution_count": 12,
     "metadata": {},
     "output_type": "execute_result"
    }
   ],
   "source": [
    "binned_kl_distance(swag_inclass['entropies'], swag_outclass['entropies'])\n",
    "binned_kl_distance(sgd_inclass['entropies'], sgd_outclass['entropies'])\n",
    "binned_kl_distance(drop_inclass['entropies'], drop_outclass['entropies'])\n",
    "binned_kl_distance( swagdiag_inclass['entropies'], swagdiag_outclass['entropies'])\n",
    "binned_kl_distance(swa_inclass['entropies'], swa_outclass['entropies'])\n",
    "binned_kl_distance(swagdrop_inclass['entropies'], swagdrop_outclass['entropies'])\n",
    "binned_kl_distance(ts_inclass_entropies, ts_outclass_entropies)"
   ]
  },
  {
   "cell_type": "code",
   "execution_count": 13,
   "metadata": {},
   "outputs": [],
   "source": [
    "np.savez(file='entropy_results.npz',\n",
    "       swag={'inclass': swag_inclass['entropies'], 'outclass': swag_outclass['entropies']},\n",
    "       sgd={'inclass': sgd_inclass['entropies'], 'outclass': sgd_outclass['entropies']},\n",
    "       drop={'inclass': drop_inclass['entropies'], 'outclass': drop_outclass['entropies']},\n",
    "       swagdiag={'inclass': swagdiag_inclass['entropies'], 'outclass': swagdiag_outclass['entropies']},\n",
    "       swa={'inclass': swa_inclass['entropies'], 'outclass': swa_outclass['entropies']},\n",
    "       swagdrop={'inclass': swagdrop_inclass['entropies'], 'outclass': swagdrop_outclass['entropies']},\n",
    "       )"
   ]
  },
  {
   "cell_type": "code",
   "execution_count": 14,
   "metadata": {},
   "outputs": [
    {
     "name": "stdout",
     "output_type": "stream",
     "text": [
      "4.254888050531469\n",
      "4.2428820462385035\n",
      "4.230876041945539\n",
      "4.218870037652574\n",
      "4.206864033359609\n",
      "4.194858029066644\n",
      "4.18285202477368\n",
      "4.170846020480714\n",
      "4.1588400161877495\n",
      "4.146834011894785\n",
      "4.134828007601819\n",
      "4.122822003308855\n",
      "4.110815999015889\n",
      "4.098809994722925\n",
      "4.08680399042996\n",
      "4.0747979861369945\n",
      "4.06279198184403\n",
      "4.050785977551065\n",
      "4.038779973258101\n",
      "4.026773968965135\n",
      "4.014767964672171\n",
      "4.002761960379205\n",
      "3.9907559560862405\n",
      "3.978749951793276\n",
      "3.9667439475003103\n",
      "3.9547379432073457\n",
      "3.942731938914381\n",
      "3.9307259346214156\n",
      "3.918719930328451\n",
      "3.9067139260354864\n",
      "3.894707921742521\n",
      "3.8827019174495563\n",
      "3.8706959131565917\n",
      "3.858689908863627\n",
      "3.8466839045706616\n",
      "3.834677900277697\n",
      "3.8226718959847314\n",
      "3.810665891691767\n",
      "3.7986598873988022\n",
      "3.7866538831058376\n",
      "3.774647878812872\n",
      "3.7626418745199075\n",
      "3.750635870226943\n",
      "3.7386298659339774\n",
      "3.726623861641013\n",
      "3.7146178573480473\n",
      "3.7026118530550827\n",
      "3.690605848762118\n",
      "3.6785998444691526\n",
      "3.666593840176188\n",
      "3.654587835883223\n",
      "3.642581831590258\n",
      "3.6305758272972932\n",
      "3.618569823004328\n",
      "3.606563818711363\n",
      "3.594557814418397\n",
      "3.5825518101254312\n",
      "3.570545805832465\n",
      "3.558539801539496\n",
      "3.5465337972465223\n",
      "3.5345277929535417\n",
      "3.522521788660545\n",
      "3.5105157843675183\n",
      "3.4985097800744325\n",
      "3.4865037757812294\n",
      "3.474497771487799\n",
      "3.462491767193919\n",
      "3.450485762899163\n",
      "3.4384797586026803\n",
      "3.426473754302818\n",
      "3.414467749996325\n",
      "3.402461745676824\n",
      "3.3904557413318095\n",
      "3.3784497369367523\n",
      "3.3664437324435377\n",
      "3.3544377277577944\n",
      "3.342431722694413\n",
      "3.3304257168903186\n",
      "3.3184197096333534\n",
      "3.3064136995266673\n",
      "3.294407683830421\n",
      "3.282401657170581\n",
      "3.270395609006325\n",
      "3.2583895186625016\n",
      "3.246383345586183\n",
      "3.234377010235608\n",
      "3.2223703565955018\n",
      "3.2103630786546464\n",
      "3.1983545762012544\n",
      "3.1863436719927805\n",
      "3.174328057069275\n",
      "3.162303203022643\n",
      "3.1502602294395228\n",
      "3.138181724685677\n",
      "3.1260335626591935\n",
      "3.1137489055819\n",
      "3.1011970317984634\n",
      "3.0881229736724327\n",
      "3.0740320499968607\n",
      "3.057974119866405\n"
     ]
    }
   ],
   "source": [
    "smooth_range = np.logspace(start=-30, stop=-1,num=100)\n",
    "smoothed_dists = np.zeros_like(smooth_range)\n",
    "for i in range(100):\n",
    "    smoothed_dists[i] = binned_kl_distance(swag_inclass['entropies'], swag_outclass['entropies'], smooth=smooth_range[i])"
   ]
  },
  {
   "cell_type": "code",
   "execution_count": 15,
   "metadata": {},
   "outputs": [
    {
     "data": {
      "text/plain": [
       "array([1.00000000e-30, 1.96304065e-30, 3.85352859e-30, 7.56463328e-30,\n",
       "       1.48496826e-29, 2.91505306e-29, 5.72236766e-29, 1.12332403e-28,\n",
       "       2.20513074e-28, 4.32876128e-28, 8.49753436e-28, 1.66810054e-27,\n",
       "       3.27454916e-27, 6.42807312e-27, 1.26185688e-26, 2.47707636e-26,\n",
       "       4.86260158e-26, 9.54548457e-26, 1.87381742e-25, 3.67837977e-25,\n",
       "       7.22080902e-25, 1.41747416e-24, 2.78255940e-24, 5.46227722e-24,\n",
       "       1.07226722e-23, 2.10490414e-23, 4.13201240e-23, 8.11130831e-23,\n",
       "       1.59228279e-22, 3.12571585e-22, 6.13590727e-22, 1.20450354e-21,\n",
       "       2.36448941e-21, 4.64158883e-21, 9.11162756e-21, 1.78864953e-20,\n",
       "       3.51119173e-20, 6.89261210e-20, 1.35304777e-19, 2.65608778e-19,\n",
       "       5.21400829e-19, 1.02353102e-18, 2.00923300e-18, 3.94420606e-18,\n",
       "       7.74263683e-18, 1.51991108e-17, 2.98364724e-17, 5.85702082e-17,\n",
       "       1.14975700e-16, 2.25701972e-16, 4.43062146e-16, 8.69749003e-16,\n",
       "       1.70735265e-15, 3.35160265e-15, 6.57933225e-15, 1.29154967e-14,\n",
       "       2.53536449e-14, 4.97702356e-14, 9.77009957e-14, 1.91791026e-13,\n",
       "       3.76493581e-13, 7.39072203e-13, 1.45082878e-12, 2.84803587e-12,\n",
       "       5.59081018e-12, 1.09749877e-11, 2.15443469e-11, 4.22924287e-11,\n",
       "       8.30217568e-11, 1.62975083e-10, 3.19926714e-10, 6.28029144e-10,\n",
       "       1.23284674e-09, 2.42012826e-09, 4.75081016e-09, 9.32603347e-09,\n",
       "       1.83073828e-08, 3.59381366e-08, 7.05480231e-08, 1.38488637e-07,\n",
       "       2.71858824e-07, 5.33669923e-07, 1.04761575e-06, 2.05651231e-06,\n",
       "       4.03701726e-06, 7.92482898e-06, 1.55567614e-05, 3.05385551e-05,\n",
       "       5.99484250e-05, 1.17681195e-04, 2.31012970e-04, 4.53487851e-04,\n",
       "       8.90215085e-04, 1.74752840e-03, 3.43046929e-03, 6.73415066e-03,\n",
       "       1.32194115e-02, 2.59502421e-02, 5.09413801e-02, 1.00000000e-01])"
      ]
     },
     "execution_count": 15,
     "metadata": {},
     "output_type": "execute_result"
    }
   ],
   "source": [
    "smooth_range"
   ]
  },
  {
   "cell_type": "code",
   "execution_count": 16,
   "metadata": {},
   "outputs": [
    {
     "data": {
      "text/plain": [
       "Text(0,0.5,'JS Distance')"
      ]
     },
     "execution_count": 16,
     "metadata": {},
     "output_type": "execute_result"
    },
    {
     "data": {
      "image/png": "[encoded data removed]",
      "text/plain": [
       "<Figure size 864x720 with 1 Axes>"
      ]
     },
     "metadata": {},
     "output_type": "display_data"
    }
   ],
   "source": [
    "plt.semilogx(smooth_range, smoothed_dists)\n",
    "plt.xlabel('Smoothing Parameter')\n",
    "plt.ylabel('JS Distance')"
   ]
  },
  {
   "cell_type": "code",
   "execution_count": 17,
   "metadata": {},
   "outputs": [
    {
     "data": {
      "text/plain": [
       "0.47588499532711054"
      ]
     },
     "execution_count": 17,
     "metadata": {},
     "output_type": "execute_result"
    }
   ],
   "source": [
    "np.log(np.log(5))"
   ]
  },
  {
   "cell_type": "code",
   "execution_count": null,
   "metadata": {},
   "outputs": [],
   "source": []
  }
 ],
 "metadata": {
  "kernelspec": {
   "display_name": "Python 3",
   "language": "python",
   "name": "python3"
  },
  "language_info": {
   "codemirror_mode": {
    "name": "ipython",
    "version": 3
   },
   "file_extension": ".py",
   "mimetype": "text/x-python",
   "name": "python",
   "nbconvert_exporter": "python",
   "pygments_lexer": "ipython3",
   "version": "3.6.5"
  }
 },
 "nbformat": 4,
 "nbformat_minor": 2
}
